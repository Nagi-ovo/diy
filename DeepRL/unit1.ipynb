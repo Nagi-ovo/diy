{
  "cells": [
    {
      "cell_type": "code",
      "execution_count": 1,
      "metadata": {
        "id": "PF46MwbZD00b"
      },
      "outputs": [
        {
          "data": {
            "text/html": [
              "<video controls autoplay><source src=\"https://huggingface.co/sb3/ppo-LunarLander-v2/resolve/main/replay.mp4\" type=\"video/mp4\"></video>\n"
            ],
            "text/plain": [
              "<IPython.core.display.HTML object>"
            ]
          },
          "metadata": {},
          "output_type": "display_data"
        }
      ],
      "source": [
        "%%html\n",
        "<video controls autoplay><source src=\"https://huggingface.co/sb3/ppo-LunarLander-v2/resolve/main/replay.mp4\" type=\"video/mp4\"></video>"
      ]
    },
    {
      "cell_type": "markdown",
      "metadata": {
        "id": "x7oR6R-ZIbeS"
      },
      "source": [
        "### The environment 🎮\n",
        "\n",
        "- [LunarLander-v2](https://gymnasium.farama.org/environments/box2d/lunar_lander/)\n",
        "\n",
        "### The library used 📚\n",
        "\n",
        "- [Stable-Baselines3](https://stable-baselines3.readthedocs.io/en/master/)"
      ]
    },
    {
      "cell_type": "markdown",
      "metadata": {
        "id": "OwEcFHe9RRZW"
      },
      "source": [
        "We're constantly trying to improve our tutorials, so **if you find some issues in this notebook**, please [open an issue on the Github Repo](https://github.com/huggingface/deep-rl-class/issues)."
      ]
    },
    {
      "cell_type": "markdown",
      "metadata": {
        "id": "4i6tjI2tHQ8j"
      },
      "source": [
        "## Objectives of this notebook 🏆\n",
        "\n",
        "At the end of the notebook, you will:\n",
        "\n",
        "- Be able to use **Gymnasium**, the environment library.\n",
        "- Be able to use **Stable-Baselines3**, the deep reinforcement learning library.\n",
        "- Be able to **push your trained agent to the Hub** with a nice video replay and an evaluation score 🔥.\n",
        "\n",
        "\n"
      ]
    },
    {
      "cell_type": "markdown",
      "metadata": {
        "id": "6p5HnEefISCB"
      },
      "source": [
        "In this free course, you will:\n",
        "\n",
        "- 📖 Study Deep Reinforcement Learning in **theory and practice**.\n",
        "- 🧑‍💻 Learn to **use famous Deep RL libraries** such as Stable Baselines3, RL Baselines3 Zoo, CleanRL and Sample Factory 2.0.\n",
        "- 🤖 Train **agents in unique environments**\n",
        "- 🎓 **Earn a certificate of completion** by completing 80% of the assignments.\n",
        "\n",
        "And more!\n",
        "\n",
        "Check 📚 the syllabus 👉 https://simoninithomas.github.io/deep-rl-course\n",
        "\n",
        "Don’t forget to **<a href=\"http://eepurl.com/ic5ZUD\">sign up to the course</a>** (we are collecting your email to be able to **send you the links when each Unit is published and give you information about the challenges and updates).**\n",
        "\n",
        "The best way to keep in touch and ask questions is **to join our discord server** to exchange with the community and with us 👉🏻 https://discord.gg/ydHrjt3WP5"
      ]
    },
    {
      "cell_type": "markdown",
      "metadata": {
        "id": "Y-mo_6rXIjRi"
      },
      "source": [
        "## Prerequisites 🏗️\n",
        "\n",
        "Before diving into the notebook, you need to:\n",
        "\n",
        "🔲 📝 **[Read Unit 0](https://huggingface.co/deep-rl-course/unit0/introduction)** that gives you all the **information about the course and helps you to onboard** 🤗\n",
        "\n",
        "🔲 📚 **Develop an understanding of the foundations of Reinforcement learning** (RL process, Rewards hypothesis...) by [reading Unit 1](https://huggingface.co/deep-rl-course/unit1/introduction)."
      ]
    },
    {
      "cell_type": "markdown",
      "metadata": {
        "id": "xcQYx9ynaFMD"
      },
      "source": [
        "Let's do a small recap on what we learned in the first Unit:\n",
        "\n",
        "- Reinforcement Learning is a **computational approach to learning from actions**. We build an agent that learns from the environment by **interacting with it through trial and error** and receiving rewards (negative or positive) as feedback.\n",
        "\n",
        "- The goal of any RL agent is to **maximize its expected cumulative reward** (also called expected return) because RL is based on the _reward hypothesis_, which is that all goals can be described as the maximization of an expected cumulative reward.\n",
        "\n",
        "- The RL process is a **loop that outputs a sequence of state, action, reward, and next state**.\n",
        "\n",
        "- To calculate the expected cumulative reward (expected return), **we discount the rewards**: the rewards that come sooner (at the beginning of the game) are more probable to happen since they are more predictable than the long-term future reward.\n",
        "\n",
        "- To solve an RL problem, you want to **find an optimal policy**; the policy is the \"brain\" of your AI that will tell us what action to take given a state. The optimal one is the one that gives you the actions that max the expected return.\n",
        "\n",
        "There are **two** ways to find your optimal policy:\n",
        "\n",
        "- By **training your policy directly**: policy-based methods.\n",
        "- By **training a value function** that tells us the expected return the agent will get at each state and use this function to define our policy: value-based methods.\n",
        "\n",
        "- Finally, we spoke about Deep RL because **we introduce deep neural networks to estimate the action to take (policy-based) or to estimate the value of a state (value-based) hence the name \"deep.\"**"
      ]
    },
    {
      "cell_type": "markdown",
      "metadata": {
        "id": "qDploC3jSH99"
      },
      "source": [
        "# Let's train our first Deep Reinforcement Learning agent and upload it to the Hub 🚀\n",
        "\n",
        "## Get a certificate 🎓\n",
        "\n",
        "To validate this hands-on for the [certification process](https://huggingface.co/deep-rl-course/en/unit0/introduction#certification-process), you need to push your trained model to the Hub and **get a result of >= 200**.\n",
        "\n",
        "To find your result, go to the [leaderboard](https://huggingface.co/spaces/huggingface-projects/Deep-Reinforcement-Learning-Leaderboard) and find your model, **the result = mean_reward - std of reward**\n",
        "\n",
        "For more information about the certification process, check this section 👉 https://huggingface.co/deep-rl-course/en/unit0/introduction#certification-process"
      ]
    },
    {
      "cell_type": "markdown",
      "metadata": {
        "id": "jeDAH0h0EBiG"
      },
      "source": [
        "## Install dependencies and create a virtual screen 🔽\n",
        "\n",
        "The first step is to install the dependencies, we’ll install multiple ones.\n",
        "\n",
        "- `gymnasium[box2d]`: Contains the LunarLander-v2 environment 🌛\n",
        "- `stable-baselines3[extra]`: The deep reinforcement learning library.\n",
        "- `huggingface_sb3`: Additional code for Stable-baselines3 to load and upload models from the Hugging Face 🤗 Hub.\n",
        "\n",
        "To make things easier, we created a script to install all these dependencies."
      ]
    },
    {
      "cell_type": "code",
      "execution_count": 2,
      "metadata": {
        "id": "yQIGLPDkGhgG"
      },
      "outputs": [
        {
          "name": "stdout",
          "output_type": "stream",
          "text": [
            "\u001b[1;31mE: \u001b[0mCould not open lock file /var/lib/dpkg/lock-frontend - open (13: Permission denied)\u001b[0m\n",
            "\u001b[1;31mE: \u001b[0mUnable to acquire the dpkg frontend lock (/var/lib/dpkg/lock-frontend), are you root?\u001b[0m\n"
          ]
        }
      ],
      "source": [
        "!apt install swig cmake"
      ]
    },
    {
      "cell_type": "code",
      "execution_count": 3,
      "metadata": {
        "id": "9XaULfDZDvrC"
      },
      "outputs": [
        {
          "name": "stdout",
          "output_type": "stream",
          "text": [
            "Collecting stable-baselines3==2.0.0a5 (from -r https://raw.githubusercontent.com/huggingface/deep-rl-class/main/notebooks/unit1/requirements-unit1.txt (line 1))\n",
            "  Downloading stable_baselines3-2.0.0a5-py3-none-any.whl.metadata (5.3 kB)\n",
            "Collecting swig (from -r https://raw.githubusercontent.com/huggingface/deep-rl-class/main/notebooks/unit1/requirements-unit1.txt (line 2))\n",
            "  Downloading swig-4.2.1-py2.py3-none-manylinux_2_5_x86_64.manylinux1_x86_64.whl.metadata (3.6 kB)\n",
            "Collecting huggingface_sb3 (from -r https://raw.githubusercontent.com/huggingface/deep-rl-class/main/notebooks/unit1/requirements-unit1.txt (line 4))\n",
            "  Downloading huggingface_sb3-3.0-py3-none-any.whl.metadata (6.3 kB)\n",
            "Collecting gymnasium[box2d] (from -r https://raw.githubusercontent.com/huggingface/deep-rl-class/main/notebooks/unit1/requirements-unit1.txt (line 3))\n",
            "  Downloading gymnasium-0.29.1-py3-none-any.whl.metadata (10 kB)\n",
            "Collecting gymnasium==0.28.1 (from stable-baselines3==2.0.0a5->-r https://raw.githubusercontent.com/huggingface/deep-rl-class/main/notebooks/unit1/requirements-unit1.txt (line 1))\n",
            "  Downloading gymnasium-0.28.1-py3-none-any.whl.metadata (9.2 kB)\n",
            "Requirement already satisfied: numpy in /home/nagi/miniconda3/envs/gym/lib/python3.10/site-packages (from stable-baselines3==2.0.0a5->-r https://raw.githubusercontent.com/huggingface/deep-rl-class/main/notebooks/unit1/requirements-unit1.txt (line 1)) (2.1.1)\n",
            "Collecting torch>=1.11 (from stable-baselines3==2.0.0a5->-r https://raw.githubusercontent.com/huggingface/deep-rl-class/main/notebooks/unit1/requirements-unit1.txt (line 1))\n",
            "  Downloading torch-2.4.1-cp310-cp310-manylinux1_x86_64.whl.metadata (26 kB)\n",
            "Requirement already satisfied: cloudpickle in /home/nagi/miniconda3/envs/gym/lib/python3.10/site-packages (from stable-baselines3==2.0.0a5->-r https://raw.githubusercontent.com/huggingface/deep-rl-class/main/notebooks/unit1/requirements-unit1.txt (line 1)) (1.2.2)\n",
            "Collecting pandas (from stable-baselines3==2.0.0a5->-r https://raw.githubusercontent.com/huggingface/deep-rl-class/main/notebooks/unit1/requirements-unit1.txt (line 1))\n",
            "  Downloading pandas-2.2.3-cp310-cp310-manylinux_2_17_x86_64.manylinux2014_x86_64.whl.metadata (89 kB)\n",
            "Collecting matplotlib (from stable-baselines3==2.0.0a5->-r https://raw.githubusercontent.com/huggingface/deep-rl-class/main/notebooks/unit1/requirements-unit1.txt (line 1))\n",
            "  Downloading matplotlib-3.9.2-cp310-cp310-manylinux_2_17_x86_64.manylinux2014_x86_64.whl.metadata (11 kB)\n",
            "Collecting jax-jumpy>=1.0.0 (from gymnasium==0.28.1->stable-baselines3==2.0.0a5->-r https://raw.githubusercontent.com/huggingface/deep-rl-class/main/notebooks/unit1/requirements-unit1.txt (line 1))\n",
            "  Downloading jax_jumpy-1.0.0-py3-none-any.whl.metadata (15 kB)\n",
            "Requirement already satisfied: typing-extensions>=4.3.0 in /home/nagi/miniconda3/envs/gym/lib/python3.10/site-packages (from gymnasium==0.28.1->stable-baselines3==2.0.0a5->-r https://raw.githubusercontent.com/huggingface/deep-rl-class/main/notebooks/unit1/requirements-unit1.txt (line 1)) (4.12.2)\n",
            "Collecting farama-notifications>=0.0.1 (from gymnasium==0.28.1->stable-baselines3==2.0.0a5->-r https://raw.githubusercontent.com/huggingface/deep-rl-class/main/notebooks/unit1/requirements-unit1.txt (line 1))\n",
            "  Using cached Farama_Notifications-0.0.4-py3-none-any.whl.metadata (558 bytes)\n",
            "INFO: pip is looking at multiple versions of gymnasium[box2d] to determine which version is compatible with other requirements. This could take a while.\n",
            "Collecting gymnasium[box2d] (from -r https://raw.githubusercontent.com/huggingface/deep-rl-class/main/notebooks/unit1/requirements-unit1.txt (line 3))\n",
            "  Downloading gymnasium-0.29.0-py3-none-any.whl.metadata (10 kB)\n",
            "Collecting box2d-py==2.3.5 (from gymnasium[box2d]->-r https://raw.githubusercontent.com/huggingface/deep-rl-class/main/notebooks/unit1/requirements-unit1.txt (line 3))\n",
            "  Downloading box2d-py-2.3.5.tar.gz (374 kB)\n",
            "  Preparing metadata (setup.py) ... \u001b[?25ldone\n",
            "\u001b[?25hCollecting pygame==2.1.3 (from gymnasium[box2d]->-r https://raw.githubusercontent.com/huggingface/deep-rl-class/main/notebooks/unit1/requirements-unit1.txt (line 3))\n",
            "  Downloading pygame-2.1.3-cp310-cp310-manylinux_2_17_x86_64.manylinux2014_x86_64.whl.metadata (9.3 kB)\n",
            "Collecting huggingface-hub~=0.8 (from huggingface_sb3->-r https://raw.githubusercontent.com/huggingface/deep-rl-class/main/notebooks/unit1/requirements-unit1.txt (line 4))\n",
            "  Downloading huggingface_hub-0.25.1-py3-none-any.whl.metadata (13 kB)\n",
            "Requirement already satisfied: pyyaml~=6.0 in /home/nagi/miniconda3/envs/gym/lib/python3.10/site-packages (from huggingface_sb3->-r https://raw.githubusercontent.com/huggingface/deep-rl-class/main/notebooks/unit1/requirements-unit1.txt (line 4)) (6.0.2)\n",
            "Collecting wasabi (from huggingface_sb3->-r https://raw.githubusercontent.com/huggingface/deep-rl-class/main/notebooks/unit1/requirements-unit1.txt (line 4))\n",
            "  Downloading wasabi-1.1.3-py3-none-any.whl.metadata (28 kB)\n",
            "Collecting cloudpickle (from stable-baselines3==2.0.0a5->-r https://raw.githubusercontent.com/huggingface/deep-rl-class/main/notebooks/unit1/requirements-unit1.txt (line 1))\n",
            "  Using cached cloudpickle-3.0.0-py3-none-any.whl.metadata (7.0 kB)\n",
            "Collecting filelock (from huggingface-hub~=0.8->huggingface_sb3->-r https://raw.githubusercontent.com/huggingface/deep-rl-class/main/notebooks/unit1/requirements-unit1.txt (line 4))\n",
            "  Downloading filelock-3.16.1-py3-none-any.whl.metadata (2.9 kB)\n",
            "Collecting fsspec>=2023.5.0 (from huggingface-hub~=0.8->huggingface_sb3->-r https://raw.githubusercontent.com/huggingface/deep-rl-class/main/notebooks/unit1/requirements-unit1.txt (line 4))\n",
            "  Using cached fsspec-2024.9.0-py3-none-any.whl.metadata (11 kB)\n",
            "Requirement already satisfied: packaging>=20.9 in /home/nagi/miniconda3/envs/gym/lib/python3.10/site-packages (from huggingface-hub~=0.8->huggingface_sb3->-r https://raw.githubusercontent.com/huggingface/deep-rl-class/main/notebooks/unit1/requirements-unit1.txt (line 4)) (24.1)\n",
            "Requirement already satisfied: requests in /home/nagi/miniconda3/envs/gym/lib/python3.10/site-packages (from huggingface-hub~=0.8->huggingface_sb3->-r https://raw.githubusercontent.com/huggingface/deep-rl-class/main/notebooks/unit1/requirements-unit1.txt (line 4)) (2.32.3)\n",
            "Collecting tqdm>=4.42.1 (from huggingface-hub~=0.8->huggingface_sb3->-r https://raw.githubusercontent.com/huggingface/deep-rl-class/main/notebooks/unit1/requirements-unit1.txt (line 4))\n",
            "  Using cached tqdm-4.66.5-py3-none-any.whl.metadata (57 kB)\n",
            "Collecting sympy (from torch>=1.11->stable-baselines3==2.0.0a5->-r https://raw.githubusercontent.com/huggingface/deep-rl-class/main/notebooks/unit1/requirements-unit1.txt (line 1))\n",
            "  Downloading sympy-1.13.3-py3-none-any.whl.metadata (12 kB)\n",
            "Collecting networkx (from torch>=1.11->stable-baselines3==2.0.0a5->-r https://raw.githubusercontent.com/huggingface/deep-rl-class/main/notebooks/unit1/requirements-unit1.txt (line 1))\n",
            "  Downloading networkx-3.3-py3-none-any.whl.metadata (5.1 kB)\n",
            "Requirement already satisfied: jinja2 in /home/nagi/miniconda3/envs/gym/lib/python3.10/site-packages (from torch>=1.11->stable-baselines3==2.0.0a5->-r https://raw.githubusercontent.com/huggingface/deep-rl-class/main/notebooks/unit1/requirements-unit1.txt (line 1)) (3.1.4)\n",
            "Collecting nvidia-cuda-nvrtc-cu12==12.1.105 (from torch>=1.11->stable-baselines3==2.0.0a5->-r https://raw.githubusercontent.com/huggingface/deep-rl-class/main/notebooks/unit1/requirements-unit1.txt (line 1))\n",
            "  Using cached nvidia_cuda_nvrtc_cu12-12.1.105-py3-none-manylinux1_x86_64.whl.metadata (1.5 kB)\n",
            "Collecting nvidia-cuda-runtime-cu12==12.1.105 (from torch>=1.11->stable-baselines3==2.0.0a5->-r https://raw.githubusercontent.com/huggingface/deep-rl-class/main/notebooks/unit1/requirements-unit1.txt (line 1))\n",
            "  Using cached nvidia_cuda_runtime_cu12-12.1.105-py3-none-manylinux1_x86_64.whl.metadata (1.5 kB)\n",
            "Collecting nvidia-cuda-cupti-cu12==12.1.105 (from torch>=1.11->stable-baselines3==2.0.0a5->-r https://raw.githubusercontent.com/huggingface/deep-rl-class/main/notebooks/unit1/requirements-unit1.txt (line 1))\n",
            "  Using cached nvidia_cuda_cupti_cu12-12.1.105-py3-none-manylinux1_x86_64.whl.metadata (1.6 kB)\n",
            "Collecting nvidia-cudnn-cu12==9.1.0.70 (from torch>=1.11->stable-baselines3==2.0.0a5->-r https://raw.githubusercontent.com/huggingface/deep-rl-class/main/notebooks/unit1/requirements-unit1.txt (line 1))\n",
            "  Using cached nvidia_cudnn_cu12-9.1.0.70-py3-none-manylinux2014_x86_64.whl.metadata (1.6 kB)\n",
            "Collecting nvidia-cublas-cu12==12.1.3.1 (from torch>=1.11->stable-baselines3==2.0.0a5->-r https://raw.githubusercontent.com/huggingface/deep-rl-class/main/notebooks/unit1/requirements-unit1.txt (line 1))\n",
            "  Using cached nvidia_cublas_cu12-12.1.3.1-py3-none-manylinux1_x86_64.whl.metadata (1.5 kB)\n",
            "Collecting nvidia-cufft-cu12==11.0.2.54 (from torch>=1.11->stable-baselines3==2.0.0a5->-r https://raw.githubusercontent.com/huggingface/deep-rl-class/main/notebooks/unit1/requirements-unit1.txt (line 1))\n",
            "  Using cached nvidia_cufft_cu12-11.0.2.54-py3-none-manylinux1_x86_64.whl.metadata (1.5 kB)\n",
            "Collecting nvidia-curand-cu12==10.3.2.106 (from torch>=1.11->stable-baselines3==2.0.0a5->-r https://raw.githubusercontent.com/huggingface/deep-rl-class/main/notebooks/unit1/requirements-unit1.txt (line 1))\n",
            "  Using cached nvidia_curand_cu12-10.3.2.106-py3-none-manylinux1_x86_64.whl.metadata (1.5 kB)\n",
            "Collecting nvidia-cusolver-cu12==11.4.5.107 (from torch>=1.11->stable-baselines3==2.0.0a5->-r https://raw.githubusercontent.com/huggingface/deep-rl-class/main/notebooks/unit1/requirements-unit1.txt (line 1))\n",
            "  Using cached nvidia_cusolver_cu12-11.4.5.107-py3-none-manylinux1_x86_64.whl.metadata (1.6 kB)\n",
            "Collecting nvidia-cusparse-cu12==12.1.0.106 (from torch>=1.11->stable-baselines3==2.0.0a5->-r https://raw.githubusercontent.com/huggingface/deep-rl-class/main/notebooks/unit1/requirements-unit1.txt (line 1))\n",
            "  Using cached nvidia_cusparse_cu12-12.1.0.106-py3-none-manylinux1_x86_64.whl.metadata (1.6 kB)\n",
            "Collecting nvidia-nccl-cu12==2.20.5 (from torch>=1.11->stable-baselines3==2.0.0a5->-r https://raw.githubusercontent.com/huggingface/deep-rl-class/main/notebooks/unit1/requirements-unit1.txt (line 1))\n",
            "  Using cached nvidia_nccl_cu12-2.20.5-py3-none-manylinux2014_x86_64.whl.metadata (1.8 kB)\n",
            "Collecting nvidia-nvtx-cu12==12.1.105 (from torch>=1.11->stable-baselines3==2.0.0a5->-r https://raw.githubusercontent.com/huggingface/deep-rl-class/main/notebooks/unit1/requirements-unit1.txt (line 1))\n",
            "  Using cached nvidia_nvtx_cu12-12.1.105-py3-none-manylinux1_x86_64.whl.metadata (1.7 kB)\n",
            "Collecting triton==3.0.0 (from torch>=1.11->stable-baselines3==2.0.0a5->-r https://raw.githubusercontent.com/huggingface/deep-rl-class/main/notebooks/unit1/requirements-unit1.txt (line 1))\n",
            "  Downloading triton-3.0.0-1-cp310-cp310-manylinux2014_x86_64.manylinux_2_17_x86_64.whl.metadata (1.3 kB)\n",
            "Collecting nvidia-nvjitlink-cu12 (from nvidia-cusolver-cu12==11.4.5.107->torch>=1.11->stable-baselines3==2.0.0a5->-r https://raw.githubusercontent.com/huggingface/deep-rl-class/main/notebooks/unit1/requirements-unit1.txt (line 1))\n",
            "  Using cached nvidia_nvjitlink_cu12-12.6.68-py3-none-manylinux2014_x86_64.whl.metadata (1.5 kB)\n",
            "Collecting contourpy>=1.0.1 (from matplotlib->stable-baselines3==2.0.0a5->-r https://raw.githubusercontent.com/huggingface/deep-rl-class/main/notebooks/unit1/requirements-unit1.txt (line 1))\n",
            "  Downloading contourpy-1.3.0-cp310-cp310-manylinux_2_17_x86_64.manylinux2014_x86_64.whl.metadata (5.4 kB)\n",
            "Collecting cycler>=0.10 (from matplotlib->stable-baselines3==2.0.0a5->-r https://raw.githubusercontent.com/huggingface/deep-rl-class/main/notebooks/unit1/requirements-unit1.txt (line 1))\n",
            "  Downloading cycler-0.12.1-py3-none-any.whl.metadata (3.8 kB)\n",
            "Collecting fonttools>=4.22.0 (from matplotlib->stable-baselines3==2.0.0a5->-r https://raw.githubusercontent.com/huggingface/deep-rl-class/main/notebooks/unit1/requirements-unit1.txt (line 1))\n",
            "  Downloading fonttools-4.54.0-cp310-cp310-manylinux_2_17_x86_64.manylinux2014_x86_64.whl.metadata (163 kB)\n",
            "Collecting kiwisolver>=1.3.1 (from matplotlib->stable-baselines3==2.0.0a5->-r https://raw.githubusercontent.com/huggingface/deep-rl-class/main/notebooks/unit1/requirements-unit1.txt (line 1))\n",
            "  Downloading kiwisolver-1.4.7-cp310-cp310-manylinux_2_12_x86_64.manylinux2010_x86_64.whl.metadata (6.3 kB)\n",
            "Requirement already satisfied: pillow>=8 in /home/nagi/miniconda3/envs/gym/lib/python3.10/site-packages (from matplotlib->stable-baselines3==2.0.0a5->-r https://raw.githubusercontent.com/huggingface/deep-rl-class/main/notebooks/unit1/requirements-unit1.txt (line 1)) (10.4.0)\n",
            "Requirement already satisfied: pyparsing>=2.3.1 in /home/nagi/miniconda3/envs/gym/lib/python3.10/site-packages (from matplotlib->stable-baselines3==2.0.0a5->-r https://raw.githubusercontent.com/huggingface/deep-rl-class/main/notebooks/unit1/requirements-unit1.txt (line 1)) (3.1.4)\n",
            "Requirement already satisfied: python-dateutil>=2.7 in /home/nagi/miniconda3/envs/gym/lib/python3.10/site-packages (from matplotlib->stable-baselines3==2.0.0a5->-r https://raw.githubusercontent.com/huggingface/deep-rl-class/main/notebooks/unit1/requirements-unit1.txt (line 1)) (2.9.0.post0)\n",
            "Collecting pytz>=2020.1 (from pandas->stable-baselines3==2.0.0a5->-r https://raw.githubusercontent.com/huggingface/deep-rl-class/main/notebooks/unit1/requirements-unit1.txt (line 1))\n",
            "  Using cached pytz-2024.2-py2.py3-none-any.whl.metadata (22 kB)\n",
            "Collecting tzdata>=2022.7 (from pandas->stable-baselines3==2.0.0a5->-r https://raw.githubusercontent.com/huggingface/deep-rl-class/main/notebooks/unit1/requirements-unit1.txt (line 1))\n",
            "  Downloading tzdata-2024.1-py2.py3-none-any.whl.metadata (1.4 kB)\n",
            "Requirement already satisfied: six>=1.5 in /home/nagi/miniconda3/envs/gym/lib/python3.10/site-packages (from python-dateutil>=2.7->matplotlib->stable-baselines3==2.0.0a5->-r https://raw.githubusercontent.com/huggingface/deep-rl-class/main/notebooks/unit1/requirements-unit1.txt (line 1)) (1.16.0)\n",
            "Requirement already satisfied: MarkupSafe>=2.0 in /home/nagi/miniconda3/envs/gym/lib/python3.10/site-packages (from jinja2->torch>=1.11->stable-baselines3==2.0.0a5->-r https://raw.githubusercontent.com/huggingface/deep-rl-class/main/notebooks/unit1/requirements-unit1.txt (line 1)) (2.1.5)\n",
            "Requirement already satisfied: charset-normalizer<4,>=2 in /home/nagi/miniconda3/envs/gym/lib/python3.10/site-packages (from requests->huggingface-hub~=0.8->huggingface_sb3->-r https://raw.githubusercontent.com/huggingface/deep-rl-class/main/notebooks/unit1/requirements-unit1.txt (line 4)) (3.3.2)\n",
            "Requirement already satisfied: idna<4,>=2.5 in /home/nagi/miniconda3/envs/gym/lib/python3.10/site-packages (from requests->huggingface-hub~=0.8->huggingface_sb3->-r https://raw.githubusercontent.com/huggingface/deep-rl-class/main/notebooks/unit1/requirements-unit1.txt (line 4)) (3.8)\n",
            "Requirement already satisfied: urllib3<3,>=1.21.1 in /home/nagi/miniconda3/envs/gym/lib/python3.10/site-packages (from requests->huggingface-hub~=0.8->huggingface_sb3->-r https://raw.githubusercontent.com/huggingface/deep-rl-class/main/notebooks/unit1/requirements-unit1.txt (line 4)) (2.2.2)\n",
            "Requirement already satisfied: certifi>=2017.4.17 in /home/nagi/miniconda3/envs/gym/lib/python3.10/site-packages (from requests->huggingface-hub~=0.8->huggingface_sb3->-r https://raw.githubusercontent.com/huggingface/deep-rl-class/main/notebooks/unit1/requirements-unit1.txt (line 4)) (2024.8.30)\n",
            "Collecting mpmath<1.4,>=1.1.0 (from sympy->torch>=1.11->stable-baselines3==2.0.0a5->-r https://raw.githubusercontent.com/huggingface/deep-rl-class/main/notebooks/unit1/requirements-unit1.txt (line 1))\n",
            "  Using cached mpmath-1.3.0-py3-none-any.whl.metadata (8.6 kB)\n",
            "Downloading stable_baselines3-2.0.0a5-py3-none-any.whl (177 kB)\n",
            "Downloading gymnasium-0.28.1-py3-none-any.whl (925 kB)\n",
            "\u001b[2K   \u001b[90m━━━━━━━━━━━━━━━━━━━━━━━━━━━━━━━━━━━━━━━\u001b[0m \u001b[32m925.5/925.5 kB\u001b[0m \u001b[31m480.4 kB/s\u001b[0m eta \u001b[36m0:00:00\u001b[0ma \u001b[36m0:00:02\u001b[0m\n",
            "\u001b[?25hDownloading swig-4.2.1-py2.py3-none-manylinux_2_5_x86_64.manylinux1_x86_64.whl (1.9 MB)\n",
            "\u001b[2K   \u001b[90m━━━━━━━━━━━━━━━━━━━━━━━━━━━━━━━━━━━━━━━━\u001b[0m \u001b[32m1.9/1.9 MB\u001b[0m \u001b[31m858.9 kB/s\u001b[0m eta \u001b[36m0:00:00\u001b[0ma \u001b[36m0:00:01\u001b[0m\n",
            "\u001b[?25hDownloading pygame-2.1.3-cp310-cp310-manylinux_2_17_x86_64.manylinux2014_x86_64.whl (13.7 MB)\n",
            "\u001b[2K   \u001b[90m━━━━━━━━━━━━━━━━━━━━━━━━━━━━━━━━━━━━━━━━\u001b[0m \u001b[32m13.7/13.7 MB\u001b[0m \u001b[31m2.7 MB/s\u001b[0m eta \u001b[36m0:00:00\u001b[0m00:01\u001b[0m00:01\u001b[0m\n",
            "\u001b[?25hDownloading huggingface_sb3-3.0-py3-none-any.whl (9.7 kB)\n",
            "Using cached cloudpickle-3.0.0-py3-none-any.whl (20 kB)\n",
            "Using cached Farama_Notifications-0.0.4-py3-none-any.whl (2.5 kB)\n",
            "Downloading huggingface_hub-0.25.1-py3-none-any.whl (436 kB)\n",
            "Downloading jax_jumpy-1.0.0-py3-none-any.whl (20 kB)\n",
            "Downloading torch-2.4.1-cp310-cp310-manylinux1_x86_64.whl (797.1 MB)\n",
            "\u001b[2K   \u001b[91m━━━━━━━━━━━━━━━━━━━━━━━━━━━━━━━━━━━━━━\u001b[0m\u001b[90m╺\u001b[0m\u001b[90m━\u001b[0m \u001b[32m759.4/797.1 MB\u001b[0m \u001b[31m9.8 MB/s\u001b[0m eta \u001b[36m0:00:04\u001b[0mm\n",
            "\u001b[?25h\u001b[31mERROR: Exception:\n",
            "Traceback (most recent call last):\n",
            "  File \"/home/nagi/miniconda3/envs/gym/lib/python3.10/site-packages/pip/_vendor/urllib3/response.py\", line 438, in _error_catcher\n",
            "    yield\n",
            "  File \"/home/nagi/miniconda3/envs/gym/lib/python3.10/site-packages/pip/_vendor/urllib3/response.py\", line 561, in read\n",
            "    data = self._fp_read(amt) if not fp_closed else b\"\"\n",
            "  File \"/home/nagi/miniconda3/envs/gym/lib/python3.10/site-packages/pip/_vendor/urllib3/response.py\", line 527, in _fp_read\n",
            "    return self._fp.read(amt) if amt is not None else self._fp.read()\n",
            "  File \"/home/nagi/miniconda3/envs/gym/lib/python3.10/site-packages/pip/_vendor/cachecontrol/filewrapper.py\", line 98, in read\n",
            "    data: bytes = self.__fp.read(amt)\n",
            "  File \"/home/nagi/miniconda3/envs/gym/lib/python3.10/http/client.py\", line 466, in read\n",
            "    s = self.fp.read(amt)\n",
            "  File \"/home/nagi/miniconda3/envs/gym/lib/python3.10/socket.py\", line 705, in readinto\n",
            "    return self._sock.recv_into(b)\n",
            "  File \"/home/nagi/miniconda3/envs/gym/lib/python3.10/ssl.py\", line 1307, in recv_into\n",
            "    return self.read(nbytes, buffer)\n",
            "  File \"/home/nagi/miniconda3/envs/gym/lib/python3.10/ssl.py\", line 1163, in read\n",
            "    return self._sslobj.read(len, buffer)\n",
            "TimeoutError: The read operation timed out\n",
            "\n",
            "During handling of the above exception, another exception occurred:\n",
            "\n",
            "Traceback (most recent call last):\n",
            "  File \"/home/nagi/miniconda3/envs/gym/lib/python3.10/site-packages/pip/_internal/cli/base_command.py\", line 105, in _run_wrapper\n",
            "    status = _inner_run()\n",
            "  File \"/home/nagi/miniconda3/envs/gym/lib/python3.10/site-packages/pip/_internal/cli/base_command.py\", line 96, in _inner_run\n",
            "    return self.run(options, args)\n",
            "  File \"/home/nagi/miniconda3/envs/gym/lib/python3.10/site-packages/pip/_internal/cli/req_command.py\", line 67, in wrapper\n",
            "    return func(self, options, args)\n",
            "  File \"/home/nagi/miniconda3/envs/gym/lib/python3.10/site-packages/pip/_internal/commands/install.py\", line 379, in run\n",
            "    requirement_set = resolver.resolve(\n",
            "  File \"/home/nagi/miniconda3/envs/gym/lib/python3.10/site-packages/pip/_internal/resolution/resolvelib/resolver.py\", line 179, in resolve\n",
            "    self.factory.preparer.prepare_linked_requirements_more(reqs)\n",
            "  File \"/home/nagi/miniconda3/envs/gym/lib/python3.10/site-packages/pip/_internal/operations/prepare.py\", line 554, in prepare_linked_requirements_more\n",
            "    self._complete_partial_requirements(\n",
            "  File \"/home/nagi/miniconda3/envs/gym/lib/python3.10/site-packages/pip/_internal/operations/prepare.py\", line 469, in _complete_partial_requirements\n",
            "    for link, (filepath, _) in batch_download:\n",
            "  File \"/home/nagi/miniconda3/envs/gym/lib/python3.10/site-packages/pip/_internal/network/download.py\", line 184, in __call__\n",
            "    for chunk in chunks:\n",
            "  File \"/home/nagi/miniconda3/envs/gym/lib/python3.10/site-packages/pip/_internal/cli/progress_bars.py\", line 55, in _rich_progress_bar\n",
            "    for chunk in iterable:\n",
            "  File \"/home/nagi/miniconda3/envs/gym/lib/python3.10/site-packages/pip/_internal/network/utils.py\", line 65, in response_chunks\n",
            "    for chunk in response.raw.stream(\n",
            "  File \"/home/nagi/miniconda3/envs/gym/lib/python3.10/site-packages/pip/_vendor/urllib3/response.py\", line 622, in stream\n",
            "    data = self.read(amt=amt, decode_content=decode_content)\n",
            "  File \"/home/nagi/miniconda3/envs/gym/lib/python3.10/site-packages/pip/_vendor/urllib3/response.py\", line 560, in read\n",
            "    with self._error_catcher():\n",
            "  File \"/home/nagi/miniconda3/envs/gym/lib/python3.10/contextlib.py\", line 153, in __exit__\n",
            "    self.gen.throw(typ, value, traceback)\n",
            "  File \"/home/nagi/miniconda3/envs/gym/lib/python3.10/site-packages/pip/_vendor/urllib3/response.py\", line 443, in _error_catcher\n",
            "    raise ReadTimeoutError(self._pool, None, \"Read timed out.\")\n",
            "pip._vendor.urllib3.exceptions.ReadTimeoutError: HTTPSConnectionPool(host='files.pythonhosted.org', port=443): Read timed out.\u001b[0m\u001b[31m\n",
            "\u001b[0m"
          ]
        }
      ],
      "source": [
        "!pip install -r https://raw.githubusercontent.com/huggingface/deep-rl-class/main/notebooks/unit1/requirements-unit1.txt"
      ]
    },
    {
      "cell_type": "markdown",
      "metadata": {
        "id": "BEKeXQJsQCYm"
      },
      "source": [
        "During the notebook, we'll need to generate a replay video. To do so, with colab, **we need to have a virtual screen to be able to render the environment** (and thus record the frames).\n",
        "\n",
        "Hence the following cell will install virtual screen libraries and create and run a virtual screen 🖥"
      ]
    },
    {
      "cell_type": "code",
      "execution_count": 4,
      "metadata": {
        "id": "j5f2cGkdP-mb"
      },
      "outputs": [
        {
          "name": "stdout",
          "output_type": "stream",
          "text": [
            "[sudo] password for nagi: \n",
            "[sudo] password for nagi: "
          ]
        }
      ],
      "source": [
        "!sudo apt-get update\n",
        "!sudo apt-get install -y python3-opengl\n",
        "!apt install ffmpeg\n",
        "!apt install xvfb\n",
        "!pip3 install pyvirtualdisplay"
      ]
    },
    {
      "cell_type": "markdown",
      "metadata": {
        "id": "TCwBTAwAW9JJ"
      },
      "source": [
        "To make sure the new installed libraries are used, **sometimes it's required to restart the notebook runtime**. The next cell will force the **runtime to crash, so you'll need to connect again and run the code starting from here**. Thanks to this trick, **we will be able to run our virtual screen.**"
      ]
    },
    {
      "cell_type": "code",
      "execution_count": null,
      "metadata": {
        "id": "cYvkbef7XEMi"
      },
      "outputs": [
        {
          "ename": "",
          "evalue": "",
          "output_type": "error",
          "traceback": [
            "\u001b[1;31mThe Kernel crashed while executing code in the current cell or a previous cell. \n",
            "\u001b[1;31mPlease review the code in the cell(s) to identify a possible cause of the failure. \n",
            "\u001b[1;31mClick <a href='https://aka.ms/vscodeJupyterKernelCrash'>here</a> for more info. \n",
            "\u001b[1;31mView Jupyter <a href='command:jupyter.viewOutput'>log</a> for further details."
          ]
        }
      ],
      "source": [
        "import os\n",
        "os.kill(os.getpid(), 9)"
      ]
    },
    {
      "cell_type": "code",
      "execution_count": 3,
      "metadata": {
        "id": "BE5JWP5rQIKf"
      },
      "outputs": [
        {
          "data": {
            "text/plain": [
              "<pyvirtualdisplay.display.Display at 0x7f1459370460>"
            ]
          },
          "execution_count": 3,
          "metadata": {},
          "output_type": "execute_result"
        }
      ],
      "source": [
        "# Virtual display\n",
        "\n",
        "import os\n",
        "os.environ['PYVIRTUALDISPLAY_DISPLAYFD'] = '0'\n",
        "\n",
        "from pyvirtualdisplay import Display\n",
        "display = Display(visible=0, size=(1400, 900))\n",
        "display.start()"
      ]
    },
    {
      "cell_type": "markdown",
      "metadata": {
        "id": "wrgpVFqyENVf"
      },
      "source": [
        "## Import the packages 📦\n",
        "\n",
        "One additional library we import is huggingface_hub **to be able to upload and download trained models from the hub**.\n",
        "\n",
        "\n",
        "The Hugging Face Hub 🤗 works as a central place where anyone can share and explore models and datasets. It has versioning, metrics, visualizations and other features that will allow you to easily collaborate with others.\n",
        "\n",
        "You can see here all the Deep reinforcement Learning models available here👉 https://huggingface.co/models?pipeline_tag=reinforcement-learning&sort=downloads\n",
        "\n"
      ]
    },
    {
      "cell_type": "code",
      "execution_count": 8,
      "metadata": {
        "id": "cygWLPGsEQ0m"
      },
      "outputs": [],
      "source": [
        "import gymnasium\n",
        "\n",
        "from huggingface_sb3 import load_from_hub, package_to_hub\n",
        "from huggingface_hub import notebook_login # To log to our Hugging Face account to be able to upload models to the Hub.\n",
        "\n",
        "from stable_baselines3 import PPO\n",
        "from stable_baselines3.common.env_util import make_vec_env\n",
        "from stable_baselines3.common.evaluation import evaluate_policy\n",
        "from stable_baselines3.common.monitor import Monitor"
      ]
    },
    {
      "cell_type": "markdown",
      "metadata": {
        "id": "MRqRuRUl8CsB"
      },
      "source": [
        "## Understand Gymnasium and how it works 🤖\n",
        "\n",
        "🏋 The library containing our environment is called Gymnasium.\n",
        "**You'll use Gymnasium a lot in Deep Reinforcement Learning.**\n",
        "\n",
        "Gymnasium is the **new version of Gym library** [maintained by the Farama Foundation](https://farama.org/).\n",
        "\n",
        "The Gymnasium library provides two things:\n",
        "\n",
        "- An interface that allows you to **create RL environments**.\n",
        "- A **collection of environments** (gym-control, atari, box2D...).\n",
        "\n",
        "Let's look at an example, but first let's recall the RL loop.\n",
        "\n",
        "<img src=\"https://huggingface.co/datasets/huggingface-deep-rl-course/course-images/resolve/main/en/unit1/RL_process_game.jpg\" alt=\"The RL process\" width=\"100%\">"
      ]
    },
    {
      "cell_type": "markdown",
      "metadata": {
        "id": "-TzNN0bQ_j-3"
      },
      "source": [
        "At each step:\n",
        "- Our Agent receives a **state (S0)** from the **Environment** — we receive the first frame of our game (Environment).\n",
        "- Based on that **state (S0),** the Agent takes an **action (A0)** — our Agent will move to the right.\n",
        "- The environment transitions to a **new** **state (S1)** — new frame.\n",
        "- The environment gives some **reward (R1)** to the Agent — we’re not dead *(Positive Reward +1)*.\n",
        "\n",
        "\n",
        "With Gymnasium:\n",
        "\n",
        "1️⃣ We create our environment using `gymnasium.make()`\n",
        "\n",
        "2️⃣ We reset the environment to its initial state with `observation = env.reset()`\n",
        "\n",
        "At each step:\n",
        "\n",
        "3️⃣ Get an action using our model (in our example we take a random action)\n",
        "\n",
        "4️⃣ Using `env.step(action)`, we perform this action in the environment and get\n",
        "- `observation`: The new state (st+1)\n",
        "- `reward`: The reward we get after executing the action\n",
        "- `terminated`: Indicates if the episode terminated (agent reach the terminal state)\n",
        "- `truncated`: Introduced with this new version, it indicates a timelimit or if an agent go out of bounds of the environment for instance.\n",
        "- `info`: A dictionary that provides additional information (depends on the environment).\n",
        "\n",
        "For more explanations check this 👉 https://gymnasium.farama.org/api/env/#gymnasium.Env.step\n",
        "\n",
        "If the episode is terminated:\n",
        "- We reset the environment to its initial state with `observation = env.reset()`\n",
        "\n",
        "**Let's look at an example!** Make sure to read the code\n"
      ]
    },
    {
      "cell_type": "code",
      "execution_count": 10,
      "metadata": {
        "id": "w7vOFlpA_ONz"
      },
      "outputs": [
        {
          "name": "stdout",
          "output_type": "stream",
          "text": [
            "Action taken: 3\n",
            "Action taken: 2\n",
            "Action taken: 0\n",
            "Action taken: 0\n",
            "Action taken: 2\n",
            "Action taken: 2\n",
            "Action taken: 0\n",
            "Action taken: 2\n",
            "Action taken: 2\n",
            "Action taken: 3\n",
            "Action taken: 0\n",
            "Action taken: 1\n",
            "Action taken: 1\n",
            "Action taken: 1\n",
            "Action taken: 0\n",
            "Action taken: 2\n",
            "Action taken: 1\n",
            "Action taken: 1\n",
            "Action taken: 0\n",
            "Action taken: 1\n"
          ]
        }
      ],
      "source": [
        "import gymnasium as gym\n",
        "\n",
        "# First, we create our environment called LunarLander-v2\n",
        "env = gym.make(\"LunarLander-v2\")\n",
        "\n",
        "# Then we reset this environment\n",
        "observation, info = env.reset()\n",
        "\n",
        "for _ in range(20):\n",
        "  # Take a random action\n",
        "  action = env.action_space.sample()\n",
        "  print(\"Action taken:\", action)\n",
        "\n",
        "  # Do this action in the environment and get\n",
        "  # next_state, reward, terminated, truncated and info\n",
        "  observation, reward, terminated, truncated, info = env.step(action)\n",
        "\n",
        "  # If the game is terminated (in our case we land, crashed) or truncated (timeout)\n",
        "  if terminated or truncated:\n",
        "      # Reset the environment\n",
        "      print(\"Environment is reset\")\n",
        "      observation, info = env.reset()\n",
        "\n",
        "env.close()"
      ]
    },
    {
      "cell_type": "markdown",
      "metadata": {
        "id": "XIrKGGSlENZB"
      },
      "source": [
        "## Create the LunarLander environment 🌛 and understand how it works\n",
        "\n",
        "### [The environment 🎮](https://gymnasium.farama.org/environments/box2d/lunar_lander/)\n",
        "\n",
        "In this first tutorial, we’re going to train our agent, a [Lunar Lander](https://gymnasium.farama.org/environments/box2d/lunar_lander/), **to land correctly on the moon**. To do that, the agent needs to learn **to adapt its speed and position (horizontal, vertical, and angular) to land correctly.**\n",
        "\n",
        "---\n",
        "\n",
        "\n",
        "💡 A good habit when you start to use an environment is to check its documentation\n",
        "\n",
        "👉 https://gymnasium.farama.org/environments/box2d/lunar_lander/\n",
        "\n",
        "---\n"
      ]
    },
    {
      "cell_type": "markdown",
      "metadata": {
        "id": "poLBgRocF9aT"
      },
      "source": [
        "Let's see what the Environment looks like:\n"
      ]
    },
    {
      "cell_type": "code",
      "execution_count": 11,
      "metadata": {
        "id": "ZNPG0g_UGCfh"
      },
      "outputs": [
        {
          "name": "stdout",
          "output_type": "stream",
          "text": [
            "_____OBSERVATION SPACE_____ \n",
            "\n",
            "Observation Space Shape (8,)\n",
            "Sample observation [ 1.1542567  -0.39093572 -3.471525   -3.92959    -1.3229088  -4.496219\n",
            "  0.74640983  0.43477157]\n"
          ]
        }
      ],
      "source": [
        "# We create our environment with gym.make(\"<name_of_the_environment>\")\n",
        "env = gym.make(\"LunarLander-v2\")\n",
        "env.reset()\n",
        "print(\"_____OBSERVATION SPACE_____ \\n\")\n",
        "print(\"Observation Space Shape\", env.observation_space.shape)\n",
        "print(\"Sample observation\", env.observation_space.sample()) # Get a random observation"
      ]
    },
    {
      "cell_type": "markdown",
      "metadata": {
        "id": "2MXc15qFE0M9"
      },
      "source": [
        "We see with `Observation Space Shape (8,)` that the observation is a vector of size 8, where each value contains different information about the lander:\n",
        "- Horizontal pad coordinate (x)\n",
        "- Vertical pad coordinate (y)\n",
        "- Horizontal speed (x)\n",
        "- Vertical speed (y)\n",
        "- Angle\n",
        "- Angular speed\n",
        "- If the left leg contact point has touched the land (boolean)\n",
        "- If the right leg contact point has touched the land (boolean)\n"
      ]
    },
    {
      "cell_type": "code",
      "execution_count": 12,
      "metadata": {
        "id": "We5WqOBGLoSm"
      },
      "outputs": [
        {
          "name": "stdout",
          "output_type": "stream",
          "text": [
            "\n",
            " _____ACTION SPACE_____ \n",
            "\n",
            "Action Space Shape 4\n",
            "Action Space Sample 1\n"
          ]
        }
      ],
      "source": [
        "print(\"\\n _____ACTION SPACE_____ \\n\")\n",
        "print(\"Action Space Shape\", env.action_space.n)\n",
        "print(\"Action Space Sample\", env.action_space.sample()) # Take a random action"
      ]
    },
    {
      "cell_type": "markdown",
      "metadata": {
        "id": "MyxXwkI2Magx"
      },
      "source": [
        "The action space (the set of possible actions the agent can take) is discrete with 4 actions available 🎮:\n",
        "\n",
        "- Action 0: Do nothing,\n",
        "- Action 1: Fire left orientation engine,\n",
        "- Action 2: Fire the main engine,\n",
        "- Action 3: Fire right orientation engine.\n",
        "\n",
        "Reward function (the function that will give a reward at each timestep) 💰:\n",
        "\n",
        "After every step a reward is granted. The total reward of an episode is the **sum of the rewards for all the steps within that episode**.\n",
        "\n",
        "For each step, the reward:\n",
        "\n",
        "- Is increased/decreased the closer/further the lander is to the landing pad.\n",
        "-  Is increased/decreased the slower/faster the lander is moving.\n",
        "- Is decreased the more the lander is tilted (angle not horizontal).\n",
        "- Is increased by 10 points for each leg that is in contact with the ground.\n",
        "- Is decreased by 0.03 points each frame a side engine is firing.\n",
        "- Is decreased by 0.3 points each frame the main engine is firing.\n",
        "\n",
        "The episode receive an **additional reward of -100 or +100 points for crashing or landing safely respectively.**\n",
        "\n",
        "An episode is **considered a solution if it scores at least 200 points.**"
      ]
    },
    {
      "cell_type": "markdown",
      "metadata": {
        "id": "dFD9RAFjG8aq"
      },
      "source": [
        "#### Vectorized Environment\n",
        "\n",
        "- We create a vectorized environment (a method for stacking multiple independent environments into a single environment) of 16 environments, this way, **we'll have more diverse experiences during the training.**"
      ]
    },
    {
      "cell_type": "code",
      "execution_count": 13,
      "metadata": {
        "id": "99hqQ_etEy1N"
      },
      "outputs": [],
      "source": [
        "# Create the environment\n",
        "env = make_vec_env('LunarLander-v2', n_envs=16)"
      ]
    },
    {
      "cell_type": "markdown",
      "metadata": {
        "id": "VgrE86r5E5IK"
      },
      "source": [
        "## Create the Model 🤖\n",
        "- We have studied our environment and we understood the problem: **being able to land the Lunar Lander to the Landing Pad correctly by controlling left, right and main orientation engine**. Now let's build the algorithm we're going to use to solve this Problem 🚀.\n",
        "\n",
        "- To do so, we're going to use our first Deep RL library, [Stable Baselines3 (SB3)](https://stable-baselines3.readthedocs.io/en/master/).\n",
        "\n",
        "- SB3 is a set of **reliable implementations of reinforcement learning algorithms in PyTorch**.\n",
        "\n",
        "---\n",
        "\n",
        "💡 A good habit when using a new library is to dive first on the documentation: https://stable-baselines3.readthedocs.io/en/master/ and then try some tutorials.\n",
        "\n",
        "----"
      ]
    },
    {
      "cell_type": "markdown",
      "metadata": {
        "id": "HLlClRW37Q7e"
      },
      "source": [
        "<img src=\"https://huggingface.co/datasets/huggingface-deep-rl-course/course-images/resolve/main/en/unit1/sb3.png\" alt=\"Stable Baselines3\">"
      ]
    },
    {
      "cell_type": "markdown",
      "metadata": {
        "id": "HV4yiUM_9_Ka"
      },
      "source": [
        "To solve this problem, we're going to use SB3 **PPO**. [PPO (aka Proximal Policy Optimization) is one of the SOTA (state of the art) Deep Reinforcement Learning algorithms that you'll study during this course](https://stable-baselines3.readthedocs.io/en/master/modules/ppo.html#example%5D).\n",
        "\n",
        "PPO is a combination of:\n",
        "- *Value-based reinforcement learning method*: learning an action-value function that will tell us the **most valuable action to take given a state and action**.\n",
        "- *Policy-based reinforcement learning method*: learning a policy that will **give us a probability distribution over actions**."
      ]
    },
    {
      "cell_type": "markdown",
      "metadata": {
        "id": "5qL_4HeIOrEJ"
      },
      "source": [
        "Stable-Baselines3 is easy to set up:\n",
        "\n",
        "1️⃣ You **create your environment** (in our case it was done above)\n",
        "\n",
        "2️⃣ You define the **model you want to use and instantiate this model** `model = PPO(\"MlpPolicy\")`\n",
        "\n",
        "3️⃣ You **train the agent** with `model.learn` and define the number of training timesteps\n",
        "\n",
        "```\n",
        "# Create environment\n",
        "env = gym.make('LunarLander-v2')\n",
        "\n",
        "# Instantiate the agent\n",
        "model = PPO('MlpPolicy', env, verbose=1)\n",
        "# Train the agent\n",
        "model.learn(total_timesteps=int(2e5))\n",
        "```\n",
        "\n"
      ]
    },
    {
      "cell_type": "code",
      "execution_count": 14,
      "metadata": {
        "id": "nxI6hT1GE4-A"
      },
      "outputs": [
        {
          "name": "stdout",
          "output_type": "stream",
          "text": [
            "Using cuda device\n"
          ]
        }
      ],
      "source": [
        "# TODO: Define a PPO MlpPolicy architecture\n",
        "# We use MultiLayerPerceptron (MLPPolicy) because the input is a vector,\n",
        "# if we had frames as input we would use CnnPolicy\n",
        "model = "
      ]
    },
    {
      "cell_type": "markdown",
      "metadata": {
        "id": "QAN7B0_HCVZC"
      },
      "source": [
        "#### Solution"
      ]
    },
    {
      "cell_type": "code",
      "execution_count": 15,
      "metadata": {
        "id": "543OHYDfcjK4"
      },
      "outputs": [
        {
          "name": "stdout",
          "output_type": "stream",
          "text": [
            "Using cuda device\n"
          ]
        }
      ],
      "source": [
        "# SOLUTION\n",
        "# We added some parameters to accelerate the training\n",
        "model = PPO(\n",
        "    policy = 'MlpPolicy',\n",
        "    env = env,\n",
        "    n_steps = 1024,\n",
        "    batch_size = 64,\n",
        "    n_epochs = 4,\n",
        "    gamma = 0.999,\n",
        "    gae_lambda = 0.98,\n",
        "    ent_coef = 0.01,\n",
        "    verbose=1)"
      ]
    },
    {
      "cell_type": "markdown",
      "metadata": {
        "id": "ClJJk88yoBUi"
      },
      "source": [
        "## Train the PPO agent 🏃\n",
        "- Let's train our agent for 1,000,000 timesteps, don't forget to use GPU on Colab. It will take approximately ~20min, but you can use fewer timesteps if you just want to try it out.\n",
        "- During the training, take a ☕ break you deserved it 🤗"
      ]
    },
    {
      "cell_type": "code",
      "execution_count": null,
      "metadata": {
        "id": "qKnYkNiVp89p"
      },
      "outputs": [],
      "source": [
        "# TODO: Train it for 1,000,000 timesteps\n",
        "\n",
        "# TODO: Specify file name for model and save the model to file\n",
        "model_name = \"ppo-LunarLander-v2\"\n"
      ]
    },
    {
      "cell_type": "markdown",
      "metadata": {
        "id": "1bQzQ-QcE3zo"
      },
      "source": [
        "#### Solution"
      ]
    },
    {
      "cell_type": "code",
      "execution_count": 16,
      "metadata": {
        "id": "poBCy9u_csyR"
      },
      "outputs": [
        {
          "name": "stdout",
          "output_type": "stream",
          "text": [
            "---------------------------------\n",
            "| rollout/           |          |\n",
            "|    ep_len_mean     | 91       |\n",
            "|    ep_rew_mean     | -192     |\n",
            "| time/              |          |\n",
            "|    fps             | 5116     |\n",
            "|    iterations      | 1        |\n",
            "|    time_elapsed    | 3        |\n",
            "|    total_timesteps | 16384    |\n",
            "---------------------------------\n",
            "--------------------------------------------\n",
            "| rollout/                |                |\n",
            "|    ep_len_mean          | 95.8           |\n",
            "|    ep_rew_mean          | -153           |\n",
            "| time/                   |                |\n",
            "|    fps                  | 2784           |\n",
            "|    iterations           | 2              |\n",
            "|    time_elapsed         | 11             |\n",
            "|    total_timesteps      | 32768          |\n",
            "| train/                  |                |\n",
            "|    approx_kl            | 0.006163884    |\n",
            "|    clip_fraction        | 0.032          |\n",
            "|    clip_range           | 0.2            |\n",
            "|    entropy_loss         | -1.38          |\n",
            "|    explained_variance   | -0.00046753883 |\n",
            "|    learning_rate        | 0.0003         |\n",
            "|    loss                 | 1.57e+03       |\n",
            "|    n_updates            | 4              |\n",
            "|    policy_gradient_loss | -0.00513       |\n",
            "|    value_loss           | 4.96e+03       |\n",
            "--------------------------------------------\n",
            "-------------------------------------------\n",
            "| rollout/                |               |\n",
            "|    ep_len_mean          | 97.8          |\n",
            "|    ep_rew_mean          | -121          |\n",
            "| time/                   |               |\n",
            "|    fps                  | 2484          |\n",
            "|    iterations           | 3             |\n",
            "|    time_elapsed         | 19            |\n",
            "|    total_timesteps      | 49152         |\n",
            "| train/                  |               |\n",
            "|    approx_kl            | 0.009317302   |\n",
            "|    clip_fraction        | 0.0568        |\n",
            "|    clip_range           | 0.2           |\n",
            "|    entropy_loss         | -1.37         |\n",
            "|    explained_variance   | -0.0029585361 |\n",
            "|    learning_rate        | 0.0003        |\n",
            "|    loss                 | 518           |\n",
            "|    n_updates            | 8             |\n",
            "|    policy_gradient_loss | -0.00597      |\n",
            "|    value_loss           | 2.09e+03      |\n",
            "-------------------------------------------\n",
            "-------------------------------------------\n",
            "| rollout/                |               |\n",
            "|    ep_len_mean          | 102           |\n",
            "|    ep_rew_mean          | -114          |\n",
            "| time/                   |               |\n",
            "|    fps                  | 2343          |\n",
            "|    iterations           | 4             |\n",
            "|    time_elapsed         | 27            |\n",
            "|    total_timesteps      | 65536         |\n",
            "| train/                  |               |\n",
            "|    approx_kl            | 0.0082081705  |\n",
            "|    clip_fraction        | 0.056         |\n",
            "|    clip_range           | 0.2           |\n",
            "|    entropy_loss         | -1.35         |\n",
            "|    explained_variance   | -0.0004017353 |\n",
            "|    learning_rate        | 0.0003        |\n",
            "|    loss                 | 576           |\n",
            "|    n_updates            | 12            |\n",
            "|    policy_gradient_loss | -0.00583      |\n",
            "|    value_loss           | 1.14e+03      |\n",
            "-------------------------------------------\n",
            "-------------------------------------------\n",
            "| rollout/                |               |\n",
            "|    ep_len_mean          | 95.3          |\n",
            "|    ep_rew_mean          | -119          |\n",
            "| time/                   |               |\n",
            "|    fps                  | 2271          |\n",
            "|    iterations           | 5             |\n",
            "|    time_elapsed         | 36            |\n",
            "|    total_timesteps      | 81920         |\n",
            "| train/                  |               |\n",
            "|    approx_kl            | 0.008730736   |\n",
            "|    clip_fraction        | 0.111         |\n",
            "|    clip_range           | 0.2           |\n",
            "|    entropy_loss         | -1.32         |\n",
            "|    explained_variance   | -0.0017380714 |\n",
            "|    learning_rate        | 0.0003        |\n",
            "|    loss                 | 456           |\n",
            "|    n_updates            | 16            |\n",
            "|    policy_gradient_loss | -0.00455      |\n",
            "|    value_loss           | 905           |\n",
            "-------------------------------------------\n",
            "--------------------------------------------\n",
            "| rollout/                |                |\n",
            "|    ep_len_mean          | 98.5           |\n",
            "|    ep_rew_mean          | -86.4          |\n",
            "| time/                   |                |\n",
            "|    fps                  | 2234           |\n",
            "|    iterations           | 6              |\n",
            "|    time_elapsed         | 43             |\n",
            "|    total_timesteps      | 98304          |\n",
            "| train/                  |                |\n",
            "|    approx_kl            | 0.0066449125   |\n",
            "|    clip_fraction        | 0.0627         |\n",
            "|    clip_range           | 0.2            |\n",
            "|    entropy_loss         | -1.33          |\n",
            "|    explained_variance   | -2.2649765e-06 |\n",
            "|    learning_rate        | 0.0003         |\n",
            "|    loss                 | 283            |\n",
            "|    n_updates            | 20             |\n",
            "|    policy_gradient_loss | -0.00436       |\n",
            "|    value_loss           | 1.07e+03       |\n",
            "--------------------------------------------\n",
            "------------------------------------------\n",
            "| rollout/                |              |\n",
            "|    ep_len_mean          | 106          |\n",
            "|    ep_rew_mean          | -80.6        |\n",
            "| time/                   |              |\n",
            "|    fps                  | 2236         |\n",
            "|    iterations           | 7            |\n",
            "|    time_elapsed         | 51           |\n",
            "|    total_timesteps      | 114688       |\n",
            "| train/                  |              |\n",
            "|    approx_kl            | 0.010723289  |\n",
            "|    clip_fraction        | 0.103        |\n",
            "|    clip_range           | 0.2          |\n",
            "|    entropy_loss         | -1.31        |\n",
            "|    explained_variance   | -0.009875178 |\n",
            "|    learning_rate        | 0.0003       |\n",
            "|    loss                 | 196          |\n",
            "|    n_updates            | 24           |\n",
            "|    policy_gradient_loss | -0.00689     |\n",
            "|    value_loss           | 579          |\n",
            "------------------------------------------\n",
            "------------------------------------------\n",
            "| rollout/                |              |\n",
            "|    ep_len_mean          | 105          |\n",
            "|    ep_rew_mean          | -63.4        |\n",
            "| time/                   |              |\n",
            "|    fps                  | 2219         |\n",
            "|    iterations           | 8            |\n",
            "|    time_elapsed         | 59           |\n",
            "|    total_timesteps      | 131072       |\n",
            "| train/                  |              |\n",
            "|    approx_kl            | 0.012493168  |\n",
            "|    clip_fraction        | 0.146        |\n",
            "|    clip_range           | 0.2          |\n",
            "|    entropy_loss         | -1.28        |\n",
            "|    explained_variance   | 0.0024419427 |\n",
            "|    learning_rate        | 0.0003       |\n",
            "|    loss                 | 298          |\n",
            "|    n_updates            | 28           |\n",
            "|    policy_gradient_loss | -0.00807     |\n",
            "|    value_loss           | 488          |\n",
            "------------------------------------------\n",
            "------------------------------------------\n",
            "| rollout/                |              |\n",
            "|    ep_len_mean          | 116          |\n",
            "|    ep_rew_mean          | -41.7        |\n",
            "| time/                   |              |\n",
            "|    fps                  | 2211         |\n",
            "|    iterations           | 9            |\n",
            "|    time_elapsed         | 66           |\n",
            "|    total_timesteps      | 147456       |\n",
            "| train/                  |              |\n",
            "|    approx_kl            | 0.0061475225 |\n",
            "|    clip_fraction        | 0.0362       |\n",
            "|    clip_range           | 0.2          |\n",
            "|    entropy_loss         | -1.25        |\n",
            "|    explained_variance   | -0.010353088 |\n",
            "|    learning_rate        | 0.0003       |\n",
            "|    loss                 | 400          |\n",
            "|    n_updates            | 32           |\n",
            "|    policy_gradient_loss | -0.00348     |\n",
            "|    value_loss           | 455          |\n",
            "------------------------------------------\n",
            "--------------------------------------------\n",
            "| rollout/                |                |\n",
            "|    ep_len_mean          | 129            |\n",
            "|    ep_rew_mean          | -23.1          |\n",
            "| time/                   |                |\n",
            "|    fps                  | 2184           |\n",
            "|    iterations           | 10             |\n",
            "|    time_elapsed         | 74             |\n",
            "|    total_timesteps      | 163840         |\n",
            "| train/                  |                |\n",
            "|    approx_kl            | 0.00912972     |\n",
            "|    clip_fraction        | 0.0424         |\n",
            "|    clip_range           | 0.2            |\n",
            "|    entropy_loss         | -1.22          |\n",
            "|    explained_variance   | -0.00065100193 |\n",
            "|    learning_rate        | 0.0003         |\n",
            "|    loss                 | 170            |\n",
            "|    n_updates            | 36             |\n",
            "|    policy_gradient_loss | -0.00355       |\n",
            "|    value_loss           | 400            |\n",
            "--------------------------------------------\n",
            "-------------------------------------------\n",
            "| rollout/                |               |\n",
            "|    ep_len_mean          | 146           |\n",
            "|    ep_rew_mean          | -22           |\n",
            "| time/                   |               |\n",
            "|    fps                  | 2155          |\n",
            "|    iterations           | 11            |\n",
            "|    time_elapsed         | 83            |\n",
            "|    total_timesteps      | 180224        |\n",
            "| train/                  |               |\n",
            "|    approx_kl            | 0.007829285   |\n",
            "|    clip_fraction        | 0.0481        |\n",
            "|    clip_range           | 0.2           |\n",
            "|    entropy_loss         | -1.19         |\n",
            "|    explained_variance   | -7.581711e-05 |\n",
            "|    learning_rate        | 0.0003        |\n",
            "|    loss                 | 109           |\n",
            "|    n_updates            | 40            |\n",
            "|    policy_gradient_loss | -0.00403      |\n",
            "|    value_loss           | 421           |\n",
            "-------------------------------------------\n",
            "--------------------------------------------\n",
            "| rollout/                |                |\n",
            "|    ep_len_mean          | 159            |\n",
            "|    ep_rew_mean          | -9.29          |\n",
            "| time/                   |                |\n",
            "|    fps                  | 2124           |\n",
            "|    iterations           | 12             |\n",
            "|    time_elapsed         | 92             |\n",
            "|    total_timesteps      | 196608         |\n",
            "| train/                  |                |\n",
            "|    approx_kl            | 0.0060804468   |\n",
            "|    clip_fraction        | 0.0648         |\n",
            "|    clip_range           | 0.2            |\n",
            "|    entropy_loss         | -1.17          |\n",
            "|    explained_variance   | -3.0994415e-06 |\n",
            "|    learning_rate        | 0.0003         |\n",
            "|    loss                 | 241            |\n",
            "|    n_updates            | 44             |\n",
            "|    policy_gradient_loss | -0.00317       |\n",
            "|    value_loss           | 517            |\n",
            "--------------------------------------------\n",
            "-------------------------------------------\n",
            "| rollout/                |               |\n",
            "|    ep_len_mean          | 183           |\n",
            "|    ep_rew_mean          | -3.44         |\n",
            "| time/                   |               |\n",
            "|    fps                  | 2061          |\n",
            "|    iterations           | 13            |\n",
            "|    time_elapsed         | 103           |\n",
            "|    total_timesteps      | 212992        |\n",
            "| train/                  |               |\n",
            "|    approx_kl            | 0.005379472   |\n",
            "|    clip_fraction        | 0.0425        |\n",
            "|    clip_range           | 0.2           |\n",
            "|    entropy_loss         | -1.16         |\n",
            "|    explained_variance   | 0.00049573183 |\n",
            "|    learning_rate        | 0.0003        |\n",
            "|    loss                 | 331           |\n",
            "|    n_updates            | 48            |\n",
            "|    policy_gradient_loss | -0.00181      |\n",
            "|    value_loss           | 636           |\n",
            "-------------------------------------------\n",
            "-------------------------------------------\n",
            "| rollout/                |               |\n",
            "|    ep_len_mean          | 262           |\n",
            "|    ep_rew_mean          | 4.47          |\n",
            "| time/                   |               |\n",
            "|    fps                  | 1952          |\n",
            "|    iterations           | 14            |\n",
            "|    time_elapsed         | 117           |\n",
            "|    total_timesteps      | 229376        |\n",
            "| train/                  |               |\n",
            "|    approx_kl            | 0.004941795   |\n",
            "|    clip_fraction        | 0.0294        |\n",
            "|    clip_range           | 0.2           |\n",
            "|    entropy_loss         | -1.2          |\n",
            "|    explained_variance   | -0.0030969381 |\n",
            "|    learning_rate        | 0.0003        |\n",
            "|    loss                 | 157           |\n",
            "|    n_updates            | 52            |\n",
            "|    policy_gradient_loss | -0.00206      |\n",
            "|    value_loss           | 500           |\n",
            "-------------------------------------------\n",
            "------------------------------------------\n",
            "| rollout/                |              |\n",
            "|    ep_len_mean          | 369          |\n",
            "|    ep_rew_mean          | 9.02         |\n",
            "| time/                   |              |\n",
            "|    fps                  | 1870         |\n",
            "|    iterations           | 15           |\n",
            "|    time_elapsed         | 131          |\n",
            "|    total_timesteps      | 245760       |\n",
            "| train/                  |              |\n",
            "|    approx_kl            | 0.0035154587 |\n",
            "|    clip_fraction        | 0.00427      |\n",
            "|    clip_range           | 0.2          |\n",
            "|    entropy_loss         | -1.26        |\n",
            "|    explained_variance   | 0.01663351   |\n",
            "|    learning_rate        | 0.0003       |\n",
            "|    loss                 | 107          |\n",
            "|    n_updates            | 56           |\n",
            "|    policy_gradient_loss | -0.0012      |\n",
            "|    value_loss           | 325          |\n",
            "------------------------------------------\n",
            "-----------------------------------------\n",
            "| rollout/                |             |\n",
            "|    ep_len_mean          | 448         |\n",
            "|    ep_rew_mean          | 13.8        |\n",
            "| time/                   |             |\n",
            "|    fps                  | 1812        |\n",
            "|    iterations           | 16          |\n",
            "|    time_elapsed         | 144         |\n",
            "|    total_timesteps      | 262144      |\n",
            "| train/                  |             |\n",
            "|    approx_kl            | 0.007638203 |\n",
            "|    clip_fraction        | 0.028       |\n",
            "|    clip_range           | 0.2         |\n",
            "|    entropy_loss         | -1.23       |\n",
            "|    explained_variance   | 0.3791377   |\n",
            "|    learning_rate        | 0.0003      |\n",
            "|    loss                 | 73.3        |\n",
            "|    n_updates            | 60          |\n",
            "|    policy_gradient_loss | -0.00301    |\n",
            "|    value_loss           | 275         |\n",
            "-----------------------------------------\n",
            "------------------------------------------\n",
            "| rollout/                |              |\n",
            "|    ep_len_mean          | 529          |\n",
            "|    ep_rew_mean          | 17.8         |\n",
            "| time/                   |              |\n",
            "|    fps                  | 1750         |\n",
            "|    iterations           | 17           |\n",
            "|    time_elapsed         | 159          |\n",
            "|    total_timesteps      | 278528       |\n",
            "| train/                  |              |\n",
            "|    approx_kl            | 0.0051048347 |\n",
            "|    clip_fraction        | 0.0335       |\n",
            "|    clip_range           | 0.2          |\n",
            "|    entropy_loss         | -1.19        |\n",
            "|    explained_variance   | 0.5308246    |\n",
            "|    learning_rate        | 0.0003       |\n",
            "|    loss                 | 285          |\n",
            "|    n_updates            | 64           |\n",
            "|    policy_gradient_loss | -0.00355     |\n",
            "|    value_loss           | 279          |\n",
            "------------------------------------------\n",
            "------------------------------------------\n",
            "| rollout/                |              |\n",
            "|    ep_len_mean          | 569          |\n",
            "|    ep_rew_mean          | 24.8         |\n",
            "| time/                   |              |\n",
            "|    fps                  | 1705         |\n",
            "|    iterations           | 18           |\n",
            "|    time_elapsed         | 172          |\n",
            "|    total_timesteps      | 294912       |\n",
            "| train/                  |              |\n",
            "|    approx_kl            | 0.0046648243 |\n",
            "|    clip_fraction        | 0.0294       |\n",
            "|    clip_range           | 0.2          |\n",
            "|    entropy_loss         | -1.24        |\n",
            "|    explained_variance   | 0.6289479    |\n",
            "|    learning_rate        | 0.0003       |\n",
            "|    loss                 | 34           |\n",
            "|    n_updates            | 68           |\n",
            "|    policy_gradient_loss | -0.00107     |\n",
            "|    value_loss           | 180          |\n",
            "------------------------------------------\n",
            "----------------------------------------\n",
            "| rollout/                |            |\n",
            "|    ep_len_mean          | 643        |\n",
            "|    ep_rew_mean          | 25.5       |\n",
            "| time/                   |            |\n",
            "|    fps                  | 1651       |\n",
            "|    iterations           | 19         |\n",
            "|    time_elapsed         | 188        |\n",
            "|    total_timesteps      | 311296     |\n",
            "| train/                  |            |\n",
            "|    approx_kl            | 0.00601091 |\n",
            "|    clip_fraction        | 0.06       |\n",
            "|    clip_range           | 0.2        |\n",
            "|    entropy_loss         | -1.19      |\n",
            "|    explained_variance   | 0.7136774  |\n",
            "|    learning_rate        | 0.0003     |\n",
            "|    loss                 | 99.1       |\n",
            "|    n_updates            | 72         |\n",
            "|    policy_gradient_loss | -0.00286   |\n",
            "|    value_loss           | 190        |\n",
            "----------------------------------------\n",
            "----------------------------------------\n",
            "| rollout/                |            |\n",
            "|    ep_len_mean          | 722        |\n",
            "|    ep_rew_mean          | 34.1       |\n",
            "| time/                   |            |\n",
            "|    fps                  | 1606       |\n",
            "|    iterations           | 20         |\n",
            "|    time_elapsed         | 203        |\n",
            "|    total_timesteps      | 327680     |\n",
            "| train/                  |            |\n",
            "|    approx_kl            | 0.00622572 |\n",
            "|    clip_fraction        | 0.0413     |\n",
            "|    clip_range           | 0.2        |\n",
            "|    entropy_loss         | -1.2       |\n",
            "|    explained_variance   | 0.67637265 |\n",
            "|    learning_rate        | 0.0003     |\n",
            "|    loss                 | 23         |\n",
            "|    n_updates            | 76         |\n",
            "|    policy_gradient_loss | -0.00193   |\n",
            "|    value_loss           | 255        |\n",
            "----------------------------------------\n",
            "------------------------------------------\n",
            "| rollout/                |              |\n",
            "|    ep_len_mean          | 792          |\n",
            "|    ep_rew_mean          | 45.4         |\n",
            "| time/                   |              |\n",
            "|    fps                  | 1581         |\n",
            "|    iterations           | 21           |\n",
            "|    time_elapsed         | 217          |\n",
            "|    total_timesteps      | 344064       |\n",
            "| train/                  |              |\n",
            "|    approx_kl            | 0.0051237266 |\n",
            "|    clip_fraction        | 0.0265       |\n",
            "|    clip_range           | 0.2          |\n",
            "|    entropy_loss         | -1.17        |\n",
            "|    explained_variance   | 0.8070182    |\n",
            "|    learning_rate        | 0.0003       |\n",
            "|    loss                 | 43.6         |\n",
            "|    n_updates            | 80           |\n",
            "|    policy_gradient_loss | -0.00101     |\n",
            "|    value_loss           | 145          |\n",
            "------------------------------------------\n",
            "------------------------------------------\n",
            "| rollout/                |              |\n",
            "|    ep_len_mean          | 816          |\n",
            "|    ep_rew_mean          | 53.4         |\n",
            "| time/                   |              |\n",
            "|    fps                  | 1559         |\n",
            "|    iterations           | 22           |\n",
            "|    time_elapsed         | 231          |\n",
            "|    total_timesteps      | 360448       |\n",
            "| train/                  |              |\n",
            "|    approx_kl            | 0.0058460156 |\n",
            "|    clip_fraction        | 0.0317       |\n",
            "|    clip_range           | 0.2          |\n",
            "|    entropy_loss         | -1.17        |\n",
            "|    explained_variance   | 0.8922559    |\n",
            "|    learning_rate        | 0.0003       |\n",
            "|    loss                 | 18.3         |\n",
            "|    n_updates            | 84           |\n",
            "|    policy_gradient_loss | -0.0018      |\n",
            "|    value_loss           | 71.6         |\n",
            "------------------------------------------\n",
            "------------------------------------------\n",
            "| rollout/                |              |\n",
            "|    ep_len_mean          | 857          |\n",
            "|    ep_rew_mean          | 61.1         |\n",
            "| time/                   |              |\n",
            "|    fps                  | 1539         |\n",
            "|    iterations           | 23           |\n",
            "|    time_elapsed         | 244          |\n",
            "|    total_timesteps      | 376832       |\n",
            "| train/                  |              |\n",
            "|    approx_kl            | 0.0040616617 |\n",
            "|    clip_fraction        | 0.0212       |\n",
            "|    clip_range           | 0.2          |\n",
            "|    entropy_loss         | -1.12        |\n",
            "|    explained_variance   | 0.8967005    |\n",
            "|    learning_rate        | 0.0003       |\n",
            "|    loss                 | 23.4         |\n",
            "|    n_updates            | 88           |\n",
            "|    policy_gradient_loss | -0.000606    |\n",
            "|    value_loss           | 90.8         |\n",
            "------------------------------------------\n",
            "------------------------------------------\n",
            "| rollout/                |              |\n",
            "|    ep_len_mean          | 845          |\n",
            "|    ep_rew_mean          | 68.3         |\n",
            "| time/                   |              |\n",
            "|    fps                  | 1528         |\n",
            "|    iterations           | 24           |\n",
            "|    time_elapsed         | 257          |\n",
            "|    total_timesteps      | 393216       |\n",
            "| train/                  |              |\n",
            "|    approx_kl            | 0.0051192907 |\n",
            "|    clip_fraction        | 0.0388       |\n",
            "|    clip_range           | 0.2          |\n",
            "|    entropy_loss         | -1.12        |\n",
            "|    explained_variance   | 0.9155283    |\n",
            "|    learning_rate        | 0.0003       |\n",
            "|    loss                 | 46.9         |\n",
            "|    n_updates            | 92           |\n",
            "|    policy_gradient_loss | -0.00151     |\n",
            "|    value_loss           | 73.7         |\n",
            "------------------------------------------\n",
            "-----------------------------------------\n",
            "| rollout/                |             |\n",
            "|    ep_len_mean          | 880         |\n",
            "|    ep_rew_mean          | 82.2        |\n",
            "| time/                   |             |\n",
            "|    fps                  | 1515        |\n",
            "|    iterations           | 25          |\n",
            "|    time_elapsed         | 270         |\n",
            "|    total_timesteps      | 409600      |\n",
            "| train/                  |             |\n",
            "|    approx_kl            | 0.006453618 |\n",
            "|    clip_fraction        | 0.0563      |\n",
            "|    clip_range           | 0.2         |\n",
            "|    entropy_loss         | -1.09       |\n",
            "|    explained_variance   | 0.900204    |\n",
            "|    learning_rate        | 0.0003      |\n",
            "|    loss                 | 46.7        |\n",
            "|    n_updates            | 96          |\n",
            "|    policy_gradient_loss | -0.00178    |\n",
            "|    value_loss           | 106         |\n",
            "-----------------------------------------\n",
            "-----------------------------------------\n",
            "| rollout/                |             |\n",
            "|    ep_len_mean          | 873         |\n",
            "|    ep_rew_mean          | 83.9        |\n",
            "| time/                   |             |\n",
            "|    fps                  | 1505        |\n",
            "|    iterations           | 26          |\n",
            "|    time_elapsed         | 283         |\n",
            "|    total_timesteps      | 425984      |\n",
            "| train/                  |             |\n",
            "|    approx_kl            | 0.003782226 |\n",
            "|    clip_fraction        | 0.0355      |\n",
            "|    clip_range           | 0.2         |\n",
            "|    entropy_loss         | -1.08       |\n",
            "|    explained_variance   | 0.95166016  |\n",
            "|    learning_rate        | 0.0003      |\n",
            "|    loss                 | 22.1        |\n",
            "|    n_updates            | 100         |\n",
            "|    policy_gradient_loss | -0.000429   |\n",
            "|    value_loss           | 45          |\n",
            "-----------------------------------------\n",
            "------------------------------------------\n",
            "| rollout/                |              |\n",
            "|    ep_len_mean          | 864          |\n",
            "|    ep_rew_mean          | 85.6         |\n",
            "| time/                   |              |\n",
            "|    fps                  | 1497         |\n",
            "|    iterations           | 27           |\n",
            "|    time_elapsed         | 295          |\n",
            "|    total_timesteps      | 442368       |\n",
            "| train/                  |              |\n",
            "|    approx_kl            | 0.0042886054 |\n",
            "|    clip_fraction        | 0.0227       |\n",
            "|    clip_range           | 0.2          |\n",
            "|    entropy_loss         | -1.04        |\n",
            "|    explained_variance   | 0.9246612    |\n",
            "|    learning_rate        | 0.0003       |\n",
            "|    loss                 | 17.6         |\n",
            "|    n_updates            | 104          |\n",
            "|    policy_gradient_loss | -0.000692    |\n",
            "|    value_loss           | 82.2         |\n",
            "------------------------------------------\n",
            "---------------------------------------\n",
            "| rollout/                |           |\n",
            "|    ep_len_mean          | 866       |\n",
            "|    ep_rew_mean          | 94.2      |\n",
            "| time/                   |           |\n",
            "|    fps                  | 1490      |\n",
            "|    iterations           | 28        |\n",
            "|    time_elapsed         | 307       |\n",
            "|    total_timesteps      | 458752    |\n",
            "| train/                  |           |\n",
            "|    approx_kl            | 0.0064538 |\n",
            "|    clip_fraction        | 0.0436    |\n",
            "|    clip_range           | 0.2       |\n",
            "|    entropy_loss         | -1.04     |\n",
            "|    explained_variance   | 0.9526268 |\n",
            "|    learning_rate        | 0.0003    |\n",
            "|    loss                 | 6.08      |\n",
            "|    n_updates            | 108       |\n",
            "|    policy_gradient_loss | -0.00108  |\n",
            "|    value_loss           | 53.5      |\n",
            "---------------------------------------\n",
            "-----------------------------------------\n",
            "| rollout/                |             |\n",
            "|    ep_len_mean          | 876         |\n",
            "|    ep_rew_mean          | 101         |\n",
            "| time/                   |             |\n",
            "|    fps                  | 1482        |\n",
            "|    iterations           | 29          |\n",
            "|    time_elapsed         | 320         |\n",
            "|    total_timesteps      | 475136      |\n",
            "| train/                  |             |\n",
            "|    approx_kl            | 0.008478489 |\n",
            "|    clip_fraction        | 0.0591      |\n",
            "|    clip_range           | 0.2         |\n",
            "|    entropy_loss         | -0.968      |\n",
            "|    explained_variance   | 0.9434451   |\n",
            "|    learning_rate        | 0.0003      |\n",
            "|    loss                 | 17.7        |\n",
            "|    n_updates            | 112         |\n",
            "|    policy_gradient_loss | -0.00323    |\n",
            "|    value_loss           | 59          |\n",
            "-----------------------------------------\n",
            "------------------------------------------\n",
            "| rollout/                |              |\n",
            "|    ep_len_mean          | 904          |\n",
            "|    ep_rew_mean          | 105          |\n",
            "| time/                   |              |\n",
            "|    fps                  | 1476         |\n",
            "|    iterations           | 30           |\n",
            "|    time_elapsed         | 333          |\n",
            "|    total_timesteps      | 491520       |\n",
            "| train/                  |              |\n",
            "|    approx_kl            | 0.0036654016 |\n",
            "|    clip_fraction        | 0.0375       |\n",
            "|    clip_range           | 0.2          |\n",
            "|    entropy_loss         | -0.95        |\n",
            "|    explained_variance   | 0.9387205    |\n",
            "|    learning_rate        | 0.0003       |\n",
            "|    loss                 | 13.6         |\n",
            "|    n_updates            | 116          |\n",
            "|    policy_gradient_loss | -0.00184     |\n",
            "|    value_loss           | 60.3         |\n",
            "------------------------------------------\n",
            "------------------------------------------\n",
            "| rollout/                |              |\n",
            "|    ep_len_mean          | 893          |\n",
            "|    ep_rew_mean          | 107          |\n",
            "| time/                   |              |\n",
            "|    fps                  | 1466         |\n",
            "|    iterations           | 31           |\n",
            "|    time_elapsed         | 346          |\n",
            "|    total_timesteps      | 507904       |\n",
            "| train/                  |              |\n",
            "|    approx_kl            | 0.0040063593 |\n",
            "|    clip_fraction        | 0.0349       |\n",
            "|    clip_range           | 0.2          |\n",
            "|    entropy_loss         | -0.918       |\n",
            "|    explained_variance   | 0.9446273    |\n",
            "|    learning_rate        | 0.0003       |\n",
            "|    loss                 | 18.6         |\n",
            "|    n_updates            | 120          |\n",
            "|    policy_gradient_loss | -0.000341    |\n",
            "|    value_loss           | 48.9         |\n",
            "------------------------------------------\n",
            "------------------------------------------\n",
            "| rollout/                |              |\n",
            "|    ep_len_mean          | 909          |\n",
            "|    ep_rew_mean          | 117          |\n",
            "| time/                   |              |\n",
            "|    fps                  | 1459         |\n",
            "|    iterations           | 32           |\n",
            "|    time_elapsed         | 359          |\n",
            "|    total_timesteps      | 524288       |\n",
            "| train/                  |              |\n",
            "|    approx_kl            | 0.0036065853 |\n",
            "|    clip_fraction        | 0.0372       |\n",
            "|    clip_range           | 0.2          |\n",
            "|    entropy_loss         | -0.898       |\n",
            "|    explained_variance   | 0.93803376   |\n",
            "|    learning_rate        | 0.0003       |\n",
            "|    loss                 | 144          |\n",
            "|    n_updates            | 124          |\n",
            "|    policy_gradient_loss | -0.00187     |\n",
            "|    value_loss           | 63.9         |\n",
            "------------------------------------------\n",
            "------------------------------------------\n",
            "| rollout/                |              |\n",
            "|    ep_len_mean          | 913          |\n",
            "|    ep_rew_mean          | 122          |\n",
            "| time/                   |              |\n",
            "|    fps                  | 1452         |\n",
            "|    iterations           | 33           |\n",
            "|    time_elapsed         | 372          |\n",
            "|    total_timesteps      | 540672       |\n",
            "| train/                  |              |\n",
            "|    approx_kl            | 0.0032867268 |\n",
            "|    clip_fraction        | 0.0309       |\n",
            "|    clip_range           | 0.2          |\n",
            "|    entropy_loss         | -0.912       |\n",
            "|    explained_variance   | 0.9640689    |\n",
            "|    learning_rate        | 0.0003       |\n",
            "|    loss                 | 8.81         |\n",
            "|    n_updates            | 128          |\n",
            "|    policy_gradient_loss | -0.000304    |\n",
            "|    value_loss           | 32.2         |\n",
            "------------------------------------------\n",
            "------------------------------------------\n",
            "| rollout/                |              |\n",
            "|    ep_len_mean          | 926          |\n",
            "|    ep_rew_mean          | 124          |\n",
            "| time/                   |              |\n",
            "|    fps                  | 1448         |\n",
            "|    iterations           | 34           |\n",
            "|    time_elapsed         | 384          |\n",
            "|    total_timesteps      | 557056       |\n",
            "| train/                  |              |\n",
            "|    approx_kl            | 0.0045627933 |\n",
            "|    clip_fraction        | 0.0339       |\n",
            "|    clip_range           | 0.2          |\n",
            "|    entropy_loss         | -0.87        |\n",
            "|    explained_variance   | 0.892594     |\n",
            "|    learning_rate        | 0.0003       |\n",
            "|    loss                 | 26.8         |\n",
            "|    n_updates            | 132          |\n",
            "|    policy_gradient_loss | -0.00121     |\n",
            "|    value_loss           | 121          |\n",
            "------------------------------------------\n",
            "------------------------------------------\n",
            "| rollout/                |              |\n",
            "|    ep_len_mean          | 931          |\n",
            "|    ep_rew_mean          | 130          |\n",
            "| time/                   |              |\n",
            "|    fps                  | 1446         |\n",
            "|    iterations           | 35           |\n",
            "|    time_elapsed         | 396          |\n",
            "|    total_timesteps      | 573440       |\n",
            "| train/                  |              |\n",
            "|    approx_kl            | 0.0037043483 |\n",
            "|    clip_fraction        | 0.0397       |\n",
            "|    clip_range           | 0.2          |\n",
            "|    entropy_loss         | -0.834       |\n",
            "|    explained_variance   | 0.9436943    |\n",
            "|    learning_rate        | 0.0003       |\n",
            "|    loss                 | 15.3         |\n",
            "|    n_updates            | 136          |\n",
            "|    policy_gradient_loss | -0.00159     |\n",
            "|    value_loss           | 53.8         |\n",
            "------------------------------------------\n",
            "----------------------------------------\n",
            "| rollout/                |            |\n",
            "|    ep_len_mean          | 930        |\n",
            "|    ep_rew_mean          | 136        |\n",
            "| time/                   |            |\n",
            "|    fps                  | 1441       |\n",
            "|    iterations           | 36         |\n",
            "|    time_elapsed         | 409        |\n",
            "|    total_timesteps      | 589824     |\n",
            "| train/                  |            |\n",
            "|    approx_kl            | 0.00538418 |\n",
            "|    clip_fraction        | 0.0321     |\n",
            "|    clip_range           | 0.2        |\n",
            "|    entropy_loss         | -0.837     |\n",
            "|    explained_variance   | 0.94333345 |\n",
            "|    learning_rate        | 0.0003     |\n",
            "|    loss                 | 9.93       |\n",
            "|    n_updates            | 140        |\n",
            "|    policy_gradient_loss | -0.0021    |\n",
            "|    value_loss           | 56.6       |\n",
            "----------------------------------------\n",
            "------------------------------------------\n",
            "| rollout/                |              |\n",
            "|    ep_len_mean          | 935          |\n",
            "|    ep_rew_mean          | 145          |\n",
            "| time/                   |              |\n",
            "|    fps                  | 1439         |\n",
            "|    iterations           | 37           |\n",
            "|    time_elapsed         | 421          |\n",
            "|    total_timesteps      | 606208       |\n",
            "| train/                  |              |\n",
            "|    approx_kl            | 0.0025009532 |\n",
            "|    clip_fraction        | 0.0262       |\n",
            "|    clip_range           | 0.2          |\n",
            "|    entropy_loss         | -0.813       |\n",
            "|    explained_variance   | 0.929248     |\n",
            "|    learning_rate        | 0.0003       |\n",
            "|    loss                 | 13.9         |\n",
            "|    n_updates            | 144          |\n",
            "|    policy_gradient_loss | -7.91e-05    |\n",
            "|    value_loss           | 87.2         |\n",
            "------------------------------------------\n",
            "------------------------------------------\n",
            "| rollout/                |              |\n",
            "|    ep_len_mean          | 901          |\n",
            "|    ep_rew_mean          | 161          |\n",
            "| time/                   |              |\n",
            "|    fps                  | 1438         |\n",
            "|    iterations           | 38           |\n",
            "|    time_elapsed         | 432          |\n",
            "|    total_timesteps      | 622592       |\n",
            "| train/                  |              |\n",
            "|    approx_kl            | 0.0048044147 |\n",
            "|    clip_fraction        | 0.0339       |\n",
            "|    clip_range           | 0.2          |\n",
            "|    entropy_loss         | -0.77        |\n",
            "|    explained_variance   | 0.8874933    |\n",
            "|    learning_rate        | 0.0003       |\n",
            "|    loss                 | 126          |\n",
            "|    n_updates            | 148          |\n",
            "|    policy_gradient_loss | -0.00149     |\n",
            "|    value_loss           | 134          |\n",
            "------------------------------------------\n",
            "----------------------------------------\n",
            "| rollout/                |            |\n",
            "|    ep_len_mean          | 801        |\n",
            "|    ep_rew_mean          | 187        |\n",
            "| time/                   |            |\n",
            "|    fps                  | 1439       |\n",
            "|    iterations           | 39         |\n",
            "|    time_elapsed         | 443        |\n",
            "|    total_timesteps      | 638976     |\n",
            "| train/                  |            |\n",
            "|    approx_kl            | 0.00544299 |\n",
            "|    clip_fraction        | 0.0649     |\n",
            "|    clip_range           | 0.2        |\n",
            "|    entropy_loss         | -0.727     |\n",
            "|    explained_variance   | 0.8053403  |\n",
            "|    learning_rate        | 0.0003     |\n",
            "|    loss                 | 58.6       |\n",
            "|    n_updates            | 152        |\n",
            "|    policy_gradient_loss | -0.00378   |\n",
            "|    value_loss           | 267        |\n",
            "----------------------------------------\n",
            "------------------------------------------\n",
            "| rollout/                |              |\n",
            "|    ep_len_mean          | 679          |\n",
            "|    ep_rew_mean          | 210          |\n",
            "| time/                   |              |\n",
            "|    fps                  | 1442         |\n",
            "|    iterations           | 40           |\n",
            "|    time_elapsed         | 454          |\n",
            "|    total_timesteps      | 655360       |\n",
            "| train/                  |              |\n",
            "|    approx_kl            | 0.0033276705 |\n",
            "|    clip_fraction        | 0.0429       |\n",
            "|    clip_range           | 0.2          |\n",
            "|    entropy_loss         | -0.668       |\n",
            "|    explained_variance   | 0.7527664    |\n",
            "|    learning_rate        | 0.0003       |\n",
            "|    loss                 | 148          |\n",
            "|    n_updates            | 156          |\n",
            "|    policy_gradient_loss | -0.00302     |\n",
            "|    value_loss           | 384          |\n",
            "------------------------------------------\n",
            "------------------------------------------\n",
            "| rollout/                |              |\n",
            "|    ep_len_mean          | 493          |\n",
            "|    ep_rew_mean          | 228          |\n",
            "| time/                   |              |\n",
            "|    fps                  | 1447         |\n",
            "|    iterations           | 41           |\n",
            "|    time_elapsed         | 464          |\n",
            "|    total_timesteps      | 671744       |\n",
            "| train/                  |              |\n",
            "|    approx_kl            | 0.0041497415 |\n",
            "|    clip_fraction        | 0.0449       |\n",
            "|    clip_range           | 0.2          |\n",
            "|    entropy_loss         | -0.746       |\n",
            "|    explained_variance   | 0.7837529    |\n",
            "|    learning_rate        | 0.0003       |\n",
            "|    loss                 | 45           |\n",
            "|    n_updates            | 160          |\n",
            "|    policy_gradient_loss | -0.00188     |\n",
            "|    value_loss           | 283          |\n",
            "------------------------------------------\n",
            "-----------------------------------------\n",
            "| rollout/                |             |\n",
            "|    ep_len_mean          | 395         |\n",
            "|    ep_rew_mean          | 241         |\n",
            "| time/                   |             |\n",
            "|    fps                  | 1453        |\n",
            "|    iterations           | 42          |\n",
            "|    time_elapsed         | 473         |\n",
            "|    total_timesteps      | 688128      |\n",
            "| train/                  |             |\n",
            "|    approx_kl            | 0.006139907 |\n",
            "|    clip_fraction        | 0.0521      |\n",
            "|    clip_range           | 0.2         |\n",
            "|    entropy_loss         | -0.751      |\n",
            "|    explained_variance   | 0.69890493  |\n",
            "|    learning_rate        | 0.0003      |\n",
            "|    loss                 | 167         |\n",
            "|    n_updates            | 164         |\n",
            "|    policy_gradient_loss | -0.00284    |\n",
            "|    value_loss           | 283         |\n",
            "-----------------------------------------\n",
            "-----------------------------------------\n",
            "| rollout/                |             |\n",
            "|    ep_len_mean          | 349         |\n",
            "|    ep_rew_mean          | 249         |\n",
            "| time/                   |             |\n",
            "|    fps                  | 1460        |\n",
            "|    iterations           | 43          |\n",
            "|    time_elapsed         | 482         |\n",
            "|    total_timesteps      | 704512      |\n",
            "| train/                  |             |\n",
            "|    approx_kl            | 0.003930712 |\n",
            "|    clip_fraction        | 0.048       |\n",
            "|    clip_range           | 0.2         |\n",
            "|    entropy_loss         | -0.764      |\n",
            "|    explained_variance   | 0.7850092   |\n",
            "|    learning_rate        | 0.0003      |\n",
            "|    loss                 | 86.7        |\n",
            "|    n_updates            | 168         |\n",
            "|    policy_gradient_loss | -0.00179    |\n",
            "|    value_loss           | 254         |\n",
            "-----------------------------------------\n",
            "-----------------------------------------\n",
            "| rollout/                |             |\n",
            "|    ep_len_mean          | 311         |\n",
            "|    ep_rew_mean          | 254         |\n",
            "| time/                   |             |\n",
            "|    fps                  | 1468        |\n",
            "|    iterations           | 44          |\n",
            "|    time_elapsed         | 490         |\n",
            "|    total_timesteps      | 720896      |\n",
            "| train/                  |             |\n",
            "|    approx_kl            | 0.004086722 |\n",
            "|    clip_fraction        | 0.0319      |\n",
            "|    clip_range           | 0.2         |\n",
            "|    entropy_loss         | -0.775      |\n",
            "|    explained_variance   | 0.80843914  |\n",
            "|    learning_rate        | 0.0003      |\n",
            "|    loss                 | 72.8        |\n",
            "|    n_updates            | 172         |\n",
            "|    policy_gradient_loss | -0.000227   |\n",
            "|    value_loss           | 251         |\n",
            "-----------------------------------------\n",
            "----------------------------------------\n",
            "| rollout/                |            |\n",
            "|    ep_len_mean          | 311        |\n",
            "|    ep_rew_mean          | 257        |\n",
            "| time/                   |            |\n",
            "|    fps                  | 1476       |\n",
            "|    iterations           | 45         |\n",
            "|    time_elapsed         | 499        |\n",
            "|    total_timesteps      | 737280     |\n",
            "| train/                  |            |\n",
            "|    approx_kl            | 0.00233704 |\n",
            "|    clip_fraction        | 0.0172     |\n",
            "|    clip_range           | 0.2        |\n",
            "|    entropy_loss         | -0.741     |\n",
            "|    explained_variance   | 0.7960578  |\n",
            "|    learning_rate        | 0.0003     |\n",
            "|    loss                 | 136        |\n",
            "|    n_updates            | 176        |\n",
            "|    policy_gradient_loss | -0.000361  |\n",
            "|    value_loss           | 284        |\n",
            "----------------------------------------\n",
            "-----------------------------------------\n",
            "| rollout/                |             |\n",
            "|    ep_len_mean          | 315         |\n",
            "|    ep_rew_mean          | 264         |\n",
            "| time/                   |             |\n",
            "|    fps                  | 1482        |\n",
            "|    iterations           | 46          |\n",
            "|    time_elapsed         | 508         |\n",
            "|    total_timesteps      | 753664      |\n",
            "| train/                  |             |\n",
            "|    approx_kl            | 0.004395458 |\n",
            "|    clip_fraction        | 0.0394      |\n",
            "|    clip_range           | 0.2         |\n",
            "|    entropy_loss         | -0.766      |\n",
            "|    explained_variance   | 0.913712    |\n",
            "|    learning_rate        | 0.0003      |\n",
            "|    loss                 | 40.2        |\n",
            "|    n_updates            | 180         |\n",
            "|    policy_gradient_loss | 0.000369    |\n",
            "|    value_loss           | 142         |\n",
            "-----------------------------------------\n",
            "-----------------------------------------\n",
            "| rollout/                |             |\n",
            "|    ep_len_mean          | 303         |\n",
            "|    ep_rew_mean          | 267         |\n",
            "| time/                   |             |\n",
            "|    fps                  | 1488        |\n",
            "|    iterations           | 47          |\n",
            "|    time_elapsed         | 517         |\n",
            "|    total_timesteps      | 770048      |\n",
            "| train/                  |             |\n",
            "|    approx_kl            | 0.003701501 |\n",
            "|    clip_fraction        | 0.0342      |\n",
            "|    clip_range           | 0.2         |\n",
            "|    entropy_loss         | -0.789      |\n",
            "|    explained_variance   | 0.9049268   |\n",
            "|    learning_rate        | 0.0003      |\n",
            "|    loss                 | 14.6        |\n",
            "|    n_updates            | 184         |\n",
            "|    policy_gradient_loss | -7.67e-05   |\n",
            "|    value_loss           | 50          |\n",
            "-----------------------------------------\n",
            "------------------------------------------\n",
            "| rollout/                |              |\n",
            "|    ep_len_mean          | 326          |\n",
            "|    ep_rew_mean          | 262          |\n",
            "| time/                   |              |\n",
            "|    fps                  | 1493         |\n",
            "|    iterations           | 48           |\n",
            "|    time_elapsed         | 526          |\n",
            "|    total_timesteps      | 786432       |\n",
            "| train/                  |              |\n",
            "|    approx_kl            | 0.0030674275 |\n",
            "|    clip_fraction        | 0.026        |\n",
            "|    clip_range           | 0.2          |\n",
            "|    entropy_loss         | -0.793       |\n",
            "|    explained_variance   | 0.8354738    |\n",
            "|    learning_rate        | 0.0003       |\n",
            "|    loss                 | 18.5         |\n",
            "|    n_updates            | 188          |\n",
            "|    policy_gradient_loss | -0.000604    |\n",
            "|    value_loss           | 174          |\n",
            "------------------------------------------\n",
            "------------------------------------------\n",
            "| rollout/                |              |\n",
            "|    ep_len_mean          | 338          |\n",
            "|    ep_rew_mean          | 262          |\n",
            "| time/                   |              |\n",
            "|    fps                  | 1498         |\n",
            "|    iterations           | 49           |\n",
            "|    time_elapsed         | 535          |\n",
            "|    total_timesteps      | 802816       |\n",
            "| train/                  |              |\n",
            "|    approx_kl            | 0.0049200747 |\n",
            "|    clip_fraction        | 0.0371       |\n",
            "|    clip_range           | 0.2          |\n",
            "|    entropy_loss         | -0.767       |\n",
            "|    explained_variance   | 0.97023857   |\n",
            "|    learning_rate        | 0.0003       |\n",
            "|    loss                 | 12.3         |\n",
            "|    n_updates            | 192          |\n",
            "|    policy_gradient_loss | 4.85e-05     |\n",
            "|    value_loss           | 39.7         |\n",
            "------------------------------------------\n",
            "------------------------------------------\n",
            "| rollout/                |              |\n",
            "|    ep_len_mean          | 338          |\n",
            "|    ep_rew_mean          | 262          |\n",
            "| time/                   |              |\n",
            "|    fps                  | 1501         |\n",
            "|    iterations           | 50           |\n",
            "|    time_elapsed         | 545          |\n",
            "|    total_timesteps      | 819200       |\n",
            "| train/                  |              |\n",
            "|    approx_kl            | 0.0031790407 |\n",
            "|    clip_fraction        | 0.0265       |\n",
            "|    clip_range           | 0.2          |\n",
            "|    entropy_loss         | -0.752       |\n",
            "|    explained_variance   | 0.9548202    |\n",
            "|    learning_rate        | 0.0003       |\n",
            "|    loss                 | 12.1         |\n",
            "|    n_updates            | 196          |\n",
            "|    policy_gradient_loss | 0.000273     |\n",
            "|    value_loss           | 77.2         |\n",
            "------------------------------------------\n",
            "------------------------------------------\n",
            "| rollout/                |              |\n",
            "|    ep_len_mean          | 362          |\n",
            "|    ep_rew_mean          | 257          |\n",
            "| time/                   |              |\n",
            "|    fps                  | 1504         |\n",
            "|    iterations           | 51           |\n",
            "|    time_elapsed         | 555          |\n",
            "|    total_timesteps      | 835584       |\n",
            "| train/                  |              |\n",
            "|    approx_kl            | 0.0029098168 |\n",
            "|    clip_fraction        | 0.0391       |\n",
            "|    clip_range           | 0.2          |\n",
            "|    entropy_loss         | -0.731       |\n",
            "|    explained_variance   | 0.9573905    |\n",
            "|    learning_rate        | 0.0003       |\n",
            "|    loss                 | 20           |\n",
            "|    n_updates            | 200          |\n",
            "|    policy_gradient_loss | -0.00123     |\n",
            "|    value_loss           | 95.4         |\n",
            "------------------------------------------\n",
            "------------------------------------------\n",
            "| rollout/                |              |\n",
            "|    ep_len_mean          | 341          |\n",
            "|    ep_rew_mean          | 258          |\n",
            "| time/                   |              |\n",
            "|    fps                  | 1508         |\n",
            "|    iterations           | 52           |\n",
            "|    time_elapsed         | 564          |\n",
            "|    total_timesteps      | 851968       |\n",
            "| train/                  |              |\n",
            "|    approx_kl            | 0.0039006115 |\n",
            "|    clip_fraction        | 0.0455       |\n",
            "|    clip_range           | 0.2          |\n",
            "|    entropy_loss         | -0.745       |\n",
            "|    explained_variance   | 0.98109907   |\n",
            "|    learning_rate        | 0.0003       |\n",
            "|    loss                 | 36.8         |\n",
            "|    n_updates            | 204          |\n",
            "|    policy_gradient_loss | -0.00077     |\n",
            "|    value_loss           | 41.4         |\n",
            "------------------------------------------\n",
            "-----------------------------------------\n",
            "| rollout/                |             |\n",
            "|    ep_len_mean          | 311         |\n",
            "|    ep_rew_mean          | 260         |\n",
            "| time/                   |             |\n",
            "|    fps                  | 1514        |\n",
            "|    iterations           | 53          |\n",
            "|    time_elapsed         | 573         |\n",
            "|    total_timesteps      | 868352      |\n",
            "| train/                  |             |\n",
            "|    approx_kl            | 0.004652895 |\n",
            "|    clip_fraction        | 0.0524      |\n",
            "|    clip_range           | 0.2         |\n",
            "|    entropy_loss         | -0.798      |\n",
            "|    explained_variance   | 0.9520398   |\n",
            "|    learning_rate        | 0.0003      |\n",
            "|    loss                 | 30.7        |\n",
            "|    n_updates            | 208         |\n",
            "|    policy_gradient_loss | -4.49e-05   |\n",
            "|    value_loss           | 72.3        |\n",
            "-----------------------------------------\n",
            "------------------------------------------\n",
            "| rollout/                |              |\n",
            "|    ep_len_mean          | 314          |\n",
            "|    ep_rew_mean          | 260          |\n",
            "| time/                   |              |\n",
            "|    fps                  | 1520         |\n",
            "|    iterations           | 54           |\n",
            "|    time_elapsed         | 581          |\n",
            "|    total_timesteps      | 884736       |\n",
            "| train/                  |              |\n",
            "|    approx_kl            | 0.0040409584 |\n",
            "|    clip_fraction        | 0.0443       |\n",
            "|    clip_range           | 0.2          |\n",
            "|    entropy_loss         | -0.786       |\n",
            "|    explained_variance   | 0.96603376   |\n",
            "|    learning_rate        | 0.0003       |\n",
            "|    loss                 | 25           |\n",
            "|    n_updates            | 212          |\n",
            "|    policy_gradient_loss | 0.000207     |\n",
            "|    value_loss           | 78.4         |\n",
            "------------------------------------------\n",
            "-----------------------------------------\n",
            "| rollout/                |             |\n",
            "|    ep_len_mean          | 303         |\n",
            "|    ep_rew_mean          | 257         |\n",
            "| time/                   |             |\n",
            "|    fps                  | 1524        |\n",
            "|    iterations           | 55          |\n",
            "|    time_elapsed         | 590         |\n",
            "|    total_timesteps      | 901120      |\n",
            "| train/                  |             |\n",
            "|    approx_kl            | 0.002968688 |\n",
            "|    clip_fraction        | 0.0198      |\n",
            "|    clip_range           | 0.2         |\n",
            "|    entropy_loss         | -0.766      |\n",
            "|    explained_variance   | 0.9333863   |\n",
            "|    learning_rate        | 0.0003      |\n",
            "|    loss                 | 44.3        |\n",
            "|    n_updates            | 216         |\n",
            "|    policy_gradient_loss | -0.000202   |\n",
            "|    value_loss           | 197         |\n",
            "-----------------------------------------\n",
            "------------------------------------------\n",
            "| rollout/                |              |\n",
            "|    ep_len_mean          | 294          |\n",
            "|    ep_rew_mean          | 264          |\n",
            "| time/                   |              |\n",
            "|    fps                  | 1530         |\n",
            "|    iterations           | 56           |\n",
            "|    time_elapsed         | 599          |\n",
            "|    total_timesteps      | 917504       |\n",
            "| train/                  |              |\n",
            "|    approx_kl            | 0.0027197732 |\n",
            "|    clip_fraction        | 0.0308       |\n",
            "|    clip_range           | 0.2          |\n",
            "|    entropy_loss         | -0.758       |\n",
            "|    explained_variance   | 0.91490203   |\n",
            "|    learning_rate        | 0.0003       |\n",
            "|    loss                 | 8.86         |\n",
            "|    n_updates            | 220          |\n",
            "|    policy_gradient_loss | -0.00035     |\n",
            "|    value_loss           | 217          |\n",
            "------------------------------------------\n",
            "------------------------------------------\n",
            "| rollout/                |              |\n",
            "|    ep_len_mean          | 292          |\n",
            "|    ep_rew_mean          | 271          |\n",
            "| time/                   |              |\n",
            "|    fps                  | 1534         |\n",
            "|    iterations           | 57           |\n",
            "|    time_elapsed         | 608          |\n",
            "|    total_timesteps      | 933888       |\n",
            "| train/                  |              |\n",
            "|    approx_kl            | 0.0033806672 |\n",
            "|    clip_fraction        | 0.0318       |\n",
            "|    clip_range           | 0.2          |\n",
            "|    entropy_loss         | -0.735       |\n",
            "|    explained_variance   | 0.93990475   |\n",
            "|    learning_rate        | 0.0003       |\n",
            "|    loss                 | 12.7         |\n",
            "|    n_updates            | 224          |\n",
            "|    policy_gradient_loss | 0.000303     |\n",
            "|    value_loss           | 135          |\n",
            "------------------------------------------\n",
            "------------------------------------------\n",
            "| rollout/                |              |\n",
            "|    ep_len_mean          | 304          |\n",
            "|    ep_rew_mean          | 268          |\n",
            "| time/                   |              |\n",
            "|    fps                  | 1536         |\n",
            "|    iterations           | 58           |\n",
            "|    time_elapsed         | 618          |\n",
            "|    total_timesteps      | 950272       |\n",
            "| train/                  |              |\n",
            "|    approx_kl            | 0.0040910747 |\n",
            "|    clip_fraction        | 0.0371       |\n",
            "|    clip_range           | 0.2          |\n",
            "|    entropy_loss         | -0.76        |\n",
            "|    explained_variance   | 0.9884194    |\n",
            "|    learning_rate        | 0.0003       |\n",
            "|    loss                 | 4.78         |\n",
            "|    n_updates            | 228          |\n",
            "|    policy_gradient_loss | 0.000186     |\n",
            "|    value_loss           | 15.6         |\n",
            "------------------------------------------\n",
            "----------------------------------------\n",
            "| rollout/                |            |\n",
            "|    ep_len_mean          | 293        |\n",
            "|    ep_rew_mean          | 264        |\n",
            "| time/                   |            |\n",
            "|    fps                  | 1539       |\n",
            "|    iterations           | 59         |\n",
            "|    time_elapsed         | 628        |\n",
            "|    total_timesteps      | 966656     |\n",
            "| train/                  |            |\n",
            "|    approx_kl            | 0.00504214 |\n",
            "|    clip_fraction        | 0.0617     |\n",
            "|    clip_range           | 0.2        |\n",
            "|    entropy_loss         | -0.755     |\n",
            "|    explained_variance   | 0.99469453 |\n",
            "|    learning_rate        | 0.0003     |\n",
            "|    loss                 | 8.04       |\n",
            "|    n_updates            | 232        |\n",
            "|    policy_gradient_loss | -0.00289   |\n",
            "|    value_loss           | 10.4       |\n",
            "----------------------------------------\n",
            "-----------------------------------------\n",
            "| rollout/                |             |\n",
            "|    ep_len_mean          | 277         |\n",
            "|    ep_rew_mean          | 268         |\n",
            "| time/                   |             |\n",
            "|    fps                  | 1542        |\n",
            "|    iterations           | 60          |\n",
            "|    time_elapsed         | 637         |\n",
            "|    total_timesteps      | 983040      |\n",
            "| train/                  |             |\n",
            "|    approx_kl            | 0.003965342 |\n",
            "|    clip_fraction        | 0.0324      |\n",
            "|    clip_range           | 0.2         |\n",
            "|    entropy_loss         | -0.753      |\n",
            "|    explained_variance   | 0.9404659   |\n",
            "|    learning_rate        | 0.0003      |\n",
            "|    loss                 | 13.8        |\n",
            "|    n_updates            | 236         |\n",
            "|    policy_gradient_loss | 0.000183    |\n",
            "|    value_loss           | 107         |\n",
            "-----------------------------------------\n",
            "-----------------------------------------\n",
            "| rollout/                |             |\n",
            "|    ep_len_mean          | 273         |\n",
            "|    ep_rew_mean          | 267         |\n",
            "| time/                   |             |\n",
            "|    fps                  | 1546        |\n",
            "|    iterations           | 61          |\n",
            "|    time_elapsed         | 646         |\n",
            "|    total_timesteps      | 999424      |\n",
            "| train/                  |             |\n",
            "|    approx_kl            | 0.003571837 |\n",
            "|    clip_fraction        | 0.0429      |\n",
            "|    clip_range           | 0.2         |\n",
            "|    entropy_loss         | -0.751      |\n",
            "|    explained_variance   | 0.99484485  |\n",
            "|    learning_rate        | 0.0003      |\n",
            "|    loss                 | 3.98        |\n",
            "|    n_updates            | 240         |\n",
            "|    policy_gradient_loss | -0.000292   |\n",
            "|    value_loss           | 8.51        |\n",
            "-----------------------------------------\n",
            "------------------------------------------\n",
            "| rollout/                |              |\n",
            "|    ep_len_mean          | 268          |\n",
            "|    ep_rew_mean          | 269          |\n",
            "| time/                   |              |\n",
            "|    fps                  | 1549         |\n",
            "|    iterations           | 62           |\n",
            "|    time_elapsed         | 655          |\n",
            "|    total_timesteps      | 1015808      |\n",
            "| train/                  |              |\n",
            "|    approx_kl            | 0.0022453396 |\n",
            "|    clip_fraction        | 0.0136       |\n",
            "|    clip_range           | 0.2          |\n",
            "|    entropy_loss         | -0.705       |\n",
            "|    explained_variance   | 0.91831017   |\n",
            "|    learning_rate        | 0.0003       |\n",
            "|    loss                 | 169          |\n",
            "|    n_updates            | 244          |\n",
            "|    policy_gradient_loss | -1.5e-05     |\n",
            "|    value_loss           | 203          |\n",
            "------------------------------------------\n"
          ]
        }
      ],
      "source": [
        "# SOLUTION\n",
        "# Train it for 1,000,000 timesteps\n",
        "model.learn(total_timesteps=1000000)\n",
        "# Save the model\n",
        "model_name = \"ppo-LunarLander-v2\"\n",
        "model.save(model_name)"
      ]
    },
    {
      "cell_type": "markdown",
      "metadata": {
        "id": "BY_HuedOoISR"
      },
      "source": [
        "## Evaluate the agent 📈\n",
        "- Remember to wrap the environment in a [Monitor](https://stable-baselines3.readthedocs.io/en/master/common/monitor.html).\n",
        "- Now that our Lunar Lander agent is trained 🚀, we need to **check its performance**.\n",
        "- Stable-Baselines3 provides a method to do that: `evaluate_policy`.\n",
        "- To fill that part you need to [check the documentation](https://stable-baselines3.readthedocs.io/en/master/guide/examples.html#basic-usage-training-saving-loading)\n",
        "- In the next step,  we'll see **how to automatically evaluate and share your agent to compete in a leaderboard, but for now let's do it ourselves**\n",
        "\n",
        "\n",
        "💡 When you evaluate your agent, you should not use your training environment but create an evaluation environment."
      ]
    },
    {
      "cell_type": "code",
      "execution_count": null,
      "metadata": {
        "id": "yRpno0glsADy"
      },
      "outputs": [],
      "source": [
        "# TODO: Evaluate the agent\n",
        "# Create a new environment for evaluation\n",
        "eval_env =\n",
        "\n",
        "# Evaluate the model with 10 evaluation episodes and deterministic=True\n",
        "mean_reward, std_reward =\n",
        "\n",
        "# Print the results\n",
        "\n"
      ]
    },
    {
      "cell_type": "markdown",
      "metadata": {
        "id": "BqPKw3jt_pG5"
      },
      "source": [
        "#### Solution"
      ]
    },
    {
      "cell_type": "code",
      "execution_count": 17,
      "metadata": {
        "id": "zpz8kHlt_a_m"
      },
      "outputs": [
        {
          "name": "stdout",
          "output_type": "stream",
          "text": [
            "mean_reward=266.00 +/- 15.361184051852259\n"
          ]
        }
      ],
      "source": [
        "#@title\n",
        "eval_env = Monitor(gym.make(\"LunarLander-v2\", render_mode='rgb_array'))\n",
        "mean_reward, std_reward = evaluate_policy(model, eval_env, n_eval_episodes=10, deterministic=True)\n",
        "print(f\"mean_reward={mean_reward:.2f} +/- {std_reward}\")"
      ]
    },
    {
      "cell_type": "markdown",
      "metadata": {
        "id": "reBhoODwcXfr"
      },
      "source": [
        "- In my case, I got a mean reward of `200.20 +/- 20.80` after training for 1 million steps, which means that our lunar lander agent is ready to land on the moon 🌛🥳."
      ]
    },
    {
      "cell_type": "markdown",
      "metadata": {
        "id": "IK_kR78NoNb2"
      },
      "source": [
        "## Publish our trained model on the Hub 🔥\n",
        "Now that we saw we got good results after the training, we can publish our trained model on the hub 🤗 with one line of code.\n",
        "\n",
        "📚 The libraries documentation 👉 https://github.com/huggingface/huggingface_sb3/tree/main#hugging-face--x-stable-baselines3-v20\n",
        "\n",
        "Here's an example of a Model Card (with Space Invaders):"
      ]
    },
    {
      "cell_type": "markdown",
      "metadata": {
        "id": "Gs-Ew7e1gXN3"
      },
      "source": [
        "By using `package_to_hub` **you evaluate, record a replay, generate a model card of your agent and push it to the hub**.\n",
        "\n",
        "This way:\n",
        "- You can **showcase our work** 🔥\n",
        "- You can **visualize your agent playing** 👀\n",
        "- You can **share with the community an agent that others can use** 💾\n",
        "- You can **access a leaderboard 🏆 to see how well your agent is performing compared to your classmates** 👉 https://huggingface.co/spaces/huggingface-projects/Deep-Reinforcement-Learning-Leaderboard\n"
      ]
    },
    {
      "cell_type": "markdown",
      "metadata": {
        "id": "JquRrWytA6eo"
      },
      "source": [
        "To be able to share your model with the community there are three more steps to follow:\n",
        "\n",
        "1️⃣ (If it's not already done) create an account on Hugging Face ➡ https://huggingface.co/join\n",
        "\n",
        "2️⃣ Sign in and then, you need to store your authentication token from the Hugging Face website.\n",
        "- Create a new token (https://huggingface.co/settings/tokens) **with write role**\n",
        "\n",
        "<img src=\"https://huggingface.co/datasets/huggingface-deep-rl-course/course-images/resolve/main/en/notebooks/create-token.jpg\" alt=\"Create HF Token\">\n",
        "\n",
        "- Copy the token\n",
        "- Run the cell below and paste the token"
      ]
    },
    {
      "cell_type": "code",
      "execution_count": 21,
      "metadata": {
        "id": "GZiFBBlzxzxY"
      },
      "outputs": [
        {
          "data": {
            "application/vnd.jupyter.widget-view+json": {
              "model_id": "3e3f2d71457b4ebc8d1c79932cfa9140",
              "version_major": 2,
              "version_minor": 0
            },
            "text/plain": [
              "VBox(children=(HTML(value='<center> <img\\nsrc=https://huggingface.co/front/assets/huggingface_logo-noborder.sv…"
            ]
          },
          "metadata": {},
          "output_type": "display_data"
        }
      ],
      "source": [
        "notebook_login()\n",
        "!git config --global credential.helper store"
      ]
    },
    {
      "cell_type": "markdown",
      "metadata": {
        "id": "_tsf2uv0g_4p"
      },
      "source": [
        "If you don't want to use a Google Colab or a Jupyter Notebook, you need to use this command instead: `huggingface-cli login`"
      ]
    },
    {
      "cell_type": "markdown",
      "metadata": {
        "id": "FGNh9VsZok0i"
      },
      "source": [
        "3️⃣ We're now ready to push our trained agent to the 🤗 Hub 🔥 using `package_to_hub()` function"
      ]
    },
    {
      "cell_type": "markdown",
      "metadata": {
        "id": "Ay24l6bqFF18"
      },
      "source": [
        "Let's fill the `package_to_hub` function:\n",
        "- `model`: our trained model.\n",
        "- `model_name`: the name of the trained model that we defined in `model_save`\n",
        "- `model_architecture`: the model architecture we used, in our case PPO\n",
        "- `env_id`: the name of the environment, in our case `LunarLander-v2`\n",
        "- `eval_env`: the evaluation environment defined in eval_env\n",
        "- `repo_id`: the name of the Hugging Face Hub Repository that will be created/updated `(repo_id = {username}/{repo_name})`\n",
        "\n",
        "💡 **A good name is {username}/{model_architecture}-{env_id}**\n",
        "\n",
        "- `commit_message`: message of the commit"
      ]
    },
    {
      "cell_type": "code",
      "execution_count": null,
      "metadata": {
        "id": "JPG7ofdGIHN8"
      },
      "outputs": [],
      "source": [
        "import gymnasium as gym\n",
        "from stable_baselines3.common.vec_env import DummyVecEnv\n",
        "from stable_baselines3.common.env_util import make_vec_env\n",
        "\n",
        "from huggingface_sb3 import package_to_hub\n",
        "\n",
        "## TODO: Define a repo_id\n",
        "## repo_id is the id of the model repository from the Hugging Face Hub (repo_id = {organization}/{repo_name} for instance ThomasSimonini/ppo-LunarLander-v2\n",
        "repo_id =\n",
        "\n",
        "# TODO: Define the name of the environment\n",
        "env_id =\n",
        "\n",
        "# Create the evaluation env and set the render_mode=\"rgb_array\"\n",
        "eval_env = DummyVecEnv([lambda: Monitor(gym.make(env_id, render_mode=\"rgb_array\"))])\n",
        "\n",
        "\n",
        "# TODO: Define the model architecture we used\n",
        "model_architecture = \"\"\n",
        "\n",
        "## TODO: Define the commit message\n",
        "commit_message = \"\"\n",
        "\n",
        "# method save, evaluate, generate a model card and record a replay video of your agent before pushing the repo to the hub\n",
        "package_to_hub(model=model, # Our trained model\n",
        "               model_name=model_name, # The name of our trained model\n",
        "               model_architecture=model_architecture, # The model architecture we used: in our case PPO\n",
        "               env_id=env_id, # Name of the environment\n",
        "               eval_env=eval_env, # Evaluation Environment\n",
        "               repo_id=repo_id, # id of the model repository from the Hugging Face Hub (repo_id = {organization}/{repo_name} for instance ThomasSimonini/ppo-LunarLander-v2\n",
        "               commit_message=commit_message)"
      ]
    },
    {
      "cell_type": "markdown",
      "metadata": {
        "id": "Avf6gufJBGMw"
      },
      "source": [
        "#### Solution\n"
      ]
    },
    {
      "cell_type": "code",
      "execution_count": 25,
      "metadata": {
        "id": "I2E--IJu8JYq"
      },
      "outputs": [
        {
          "name": "stdout",
          "output_type": "stream",
          "text": [
            "\u001b[38;5;4mℹ This function will save, evaluate, generate a video of your agent,\n",
            "create a model card and push everything to the hub. It might take up to 1min.\n",
            "This is a work in progress: if you encounter a bug, please open an issue.\u001b[0m\n"
          ]
        },
        {
          "name": "stderr",
          "output_type": "stream",
          "text": [
            "Exception ignored in: <function VecVideoRecorder.__del__ at 0x7f135f219b40>\n",
            "Traceback (most recent call last):\n",
            "  File \"/home/nagi/miniconda3/envs/gym/lib/python3.10/site-packages/stable_baselines3/common/vec_env/vec_video_recorder.py\", line 113, in __del__\n",
            "    self.close_video_recorder()\n",
            "  File \"/home/nagi/miniconda3/envs/gym/lib/python3.10/site-packages/stable_baselines3/common/vec_env/vec_video_recorder.py\", line 104, in close_video_recorder\n",
            "    self.video_recorder.close()\n",
            "  File \"/home/nagi/miniconda3/envs/gym/lib/python3.10/site-packages/gymnasium/wrappers/monitoring/video_recorder.py\", line 157, in close\n",
            "  File \"/home/nagi/miniconda3/envs/gym/lib/python3.10/site-packages/decorator.py\", line 232, in fun\n",
            "    for i, extra in enumerate(extras):\n",
            "  File \"/home/nagi/miniconda3/envs/gym/lib/python3.10/site-packages/moviepy/decorators.py\", line 54, in requires_duration\n",
            "    return f(clip, *a, **k)\n",
            "  File \"/home/nagi/miniconda3/envs/gym/lib/python3.10/site-packages/decorator.py\", line 232, in fun\n",
            "    for i, extra in enumerate(extras):\n",
            "  File \"/home/nagi/miniconda3/envs/gym/lib/python3.10/site-packages/moviepy/decorators.py\", line 135, in use_clip_fps_by_default\n",
            "    return f(clip, *new_a, **new_kw)\n",
            "  File \"/home/nagi/miniconda3/envs/gym/lib/python3.10/site-packages/decorator.py\", line 232, in fun\n",
            "    for i, extra in enumerate(extras):\n",
            "  File \"/home/nagi/miniconda3/envs/gym/lib/python3.10/site-packages/moviepy/decorators.py\", line 22, in convert_masks_to_RGB\n",
            "    return f(clip, *a, **k)\n",
            "  File \"/home/nagi/miniconda3/envs/gym/lib/python3.10/site-packages/moviepy/video/VideoClip.py\", line 300, in write_videofile\n",
            "    ffmpeg_write_video(self, filename, fps, codec,\n",
            "  File \"/home/nagi/miniconda3/envs/gym/lib/python3.10/site-packages/moviepy/video/io/ffmpeg_writer.py\", line 213, in ffmpeg_write_video\n",
            "    with FFMPEG_VideoWriter(filename, clip.size, fps, codec = codec,\n",
            "  File \"/home/nagi/miniconda3/envs/gym/lib/python3.10/site-packages/moviepy/video/io/ffmpeg_writer.py\", line 88, in __init__\n",
            "    '-r', '%.02f' % fps,\n",
            "TypeError: must be real number, not NoneType\n"
          ]
        },
        {
          "name": "stdout",
          "output_type": "stream",
          "text": [
            "Saving video to /tmp/tmpi6zmc7g_/-step-0-to-step-1000.mp4\n",
            "Moviepy - Building video /tmp/tmpi6zmc7g_/-step-0-to-step-1000.mp4.\n",
            "Moviepy - Writing video /tmp/tmpi6zmc7g_/-step-0-to-step-1000.mp4\n",
            "\n",
            "\u001b[38;5;1m✘ must be real number, not NoneType\u001b[0m\n",
            "\u001b[38;5;1m✘ We are unable to generate a replay of your agent, the package_to_hub\n",
            "process continues\u001b[0m\n",
            "\u001b[38;5;1m✘ Please open an issue at\n",
            "https://github.com/huggingface/huggingface_sb3/issues\u001b[0m\n",
            "Moviepy - Building video /tmp/tmpi6zmc7g_/-step-0-to-step-1000.mp4.\n",
            "Moviepy - Writing video /tmp/tmpi6zmc7g_/-step-0-to-step-1000.mp4\n",
            "\n",
            "\u001b[38;5;4mℹ Pushing repo Nagi-ovo/ppo-LunarLander-v2 to the Hugging Face Hub\u001b[0m\n"
          ]
        },
        {
          "data": {
            "application/vnd.jupyter.widget-view+json": {
              "model_id": "cd27f48c2fa64adea7f5f498a23953cf",
              "version_major": 2,
              "version_minor": 0
            },
            "text/plain": [
              "policy.pth:   0%|          | 0.00/43.8k [00:00<?, ?B/s]"
            ]
          },
          "metadata": {},
          "output_type": "display_data"
        },
        {
          "data": {
            "application/vnd.jupyter.widget-view+json": {
              "model_id": "6f6cbaad4b5a4700b71aa5b0b5b82973",
              "version_major": 2,
              "version_minor": 0
            },
            "text/plain": [
              "Upload 4 LFS files:   0%|          | 0/4 [00:00<?, ?it/s]"
            ]
          },
          "metadata": {},
          "output_type": "display_data"
        },
        {
          "data": {
            "application/vnd.jupyter.widget-view+json": {
              "model_id": "050813c3702241fc8ac741280b67b961",
              "version_major": 2,
              "version_minor": 0
            },
            "text/plain": [
              "policy.optimizer.pth:   0%|          | 0.00/88.4k [00:00<?, ?B/s]"
            ]
          },
          "metadata": {},
          "output_type": "display_data"
        },
        {
          "data": {
            "application/vnd.jupyter.widget-view+json": {
              "model_id": "24175a30ce144b3a80c975ba0e8345d1",
              "version_major": 2,
              "version_minor": 0
            },
            "text/plain": [
              "ppo-LunarLander-v2.zip:   0%|          | 0.00/152k [00:00<?, ?B/s]"
            ]
          },
          "metadata": {},
          "output_type": "display_data"
        },
        {
          "data": {
            "application/vnd.jupyter.widget-view+json": {
              "model_id": "a7cf030b8be142d7ade7029b3165f9da",
              "version_major": 2,
              "version_minor": 0
            },
            "text/plain": [
              "pytorch_variables.pth:   0%|          | 0.00/864 [00:00<?, ?B/s]"
            ]
          },
          "metadata": {},
          "output_type": "display_data"
        },
        {
          "name": "stdout",
          "output_type": "stream",
          "text": [
            "\u001b[38;5;4mℹ Your model is pushed to the Hub. You can view your model here:\n",
            "https://huggingface.co/Nagi-ovo/ppo-LunarLander-v2/tree/main/\u001b[0m\n"
          ]
        },
        {
          "data": {
            "text/plain": [
              "CommitInfo(commit_url='https://huggingface.co/Nagi-ovo/ppo-LunarLander-v2/commit/e8b7f01854d0abe322397aac9b537bacbe10aa8d', commit_message='Upload PPO LunarLander-v2 trained agent', commit_description='', oid='e8b7f01854d0abe322397aac9b537bacbe10aa8d', pr_url=None, repo_url=RepoUrl('https://huggingface.co/Nagi-ovo/ppo-LunarLander-v2', endpoint='https://huggingface.co', repo_type='model', repo_id='Nagi-ovo/ppo-LunarLander-v2'), pr_revision=None, pr_num=None)"
            ]
          },
          "execution_count": 25,
          "metadata": {},
          "output_type": "execute_result"
        }
      ],
      "source": [
        "import gymnasium as gym\n",
        "\n",
        "from stable_baselines3 import PPO\n",
        "from stable_baselines3.common.vec_env import DummyVecEnv\n",
        "from stable_baselines3.common.env_util import make_vec_env\n",
        "\n",
        "from huggingface_sb3 import package_to_hub\n",
        "\n",
        "# PLACE the variables you've just defined two cells above\n",
        "# Define the name of the environment\n",
        "env_id = \"LunarLander-v2\"\n",
        "\n",
        "# TODO: Define the model architecture we used\n",
        "model_architecture = \"PPO\"\n",
        "\n",
        "## Define a repo_id\n",
        "## repo_id is the id of the model repository from the Hugging Face Hub (repo_id = {organization}/{repo_name} for instance ThomasSimonini/ppo-LunarLander-v2\n",
        "## CHANGE WITH YOUR REPO ID\n",
        "repo_id = \"Nagi-ovo/ppo-LunarLander-v2\" # Change with your repo id, you can't push with mine 😄\n",
        "\n",
        "## Define the commit message\n",
        "commit_message = \"Upload PPO LunarLander-v2 trained agent\"\n",
        "\n",
        "# Create the evaluation env and set the render_mode=\"rgb_array\"\n",
        "eval_env = DummyVecEnv([lambda: gym.make(env_id, render_mode=\"rgb_array\")])\n",
        "\n",
        "# PLACE the package_to_hub function you've just filled here\n",
        "package_to_hub(model=model, # Our trained model\n",
        "               model_name=model_name, # The name of our trained model\n",
        "               model_architecture=model_architecture, # The model architecture we used: in our case PPO\n",
        "               env_id=env_id, # Name of the environment\n",
        "               eval_env=eval_env, # Evaluation Environment\n",
        "               repo_id=repo_id, # id of the model repository from the Hugging Face Hub (repo_id = {organization}/{repo_name} for instance ThomasSimonini/ppo-LunarLander-v2\n",
        "               commit_message=commit_message)\n"
      ]
    },
    {
      "cell_type": "markdown",
      "metadata": {
        "id": "T79AEAWEFIxz"
      },
      "source": [
        "Congrats 🥳 you've just trained and uploaded your first Deep Reinforcement Learning agent. The script above should have displayed a link to a model repository such as https://huggingface.co/osanseviero/test_sb3. When you go to this link, you can:\n",
        "* See a video preview of your agent at the right.\n",
        "* Click \"Files and versions\" to see all the files in the repository.\n",
        "* Click \"Use in stable-baselines3\" to get a code snippet that shows how to load the model.\n",
        "* A model card (`README.md` file) which gives a description of the model\n",
        "\n",
        "Under the hood, the Hub uses git-based repositories (don't worry if you don't know what git is), which means you can update the model with new versions as you experiment and improve your agent.\n",
        "\n",
        "Compare the results of your LunarLander-v2 with your classmates using the leaderboard 🏆 👉 https://huggingface.co/spaces/huggingface-projects/Deep-Reinforcement-Learning-Leaderboard"
      ]
    },
    {
      "cell_type": "markdown",
      "metadata": {
        "id": "9nWnuQHRfFRa"
      },
      "source": [
        "## Load a saved LunarLander model from the Hub 🤗\n",
        "Thanks to [ironbar](https://github.com/ironbar) for the contribution.\n",
        "\n",
        "Loading a saved model from the Hub is really easy.\n",
        "\n",
        "You go to https://huggingface.co/models?library=stable-baselines3 to see the list of all the Stable-baselines3 saved models.\n",
        "1. You select one and copy its repo_id\n",
        "\n",
        "<img src=\"https://huggingface.co/datasets/huggingface-deep-rl-course/course-images/resolve/main/en/notebooks/unit1/copy-id.png\" alt=\"Copy-id\"/>"
      ]
    },
    {
      "cell_type": "markdown",
      "metadata": {
        "id": "hNPLJF2bfiUw"
      },
      "source": [
        "2. Then we just need to use load_from_hub with:\n",
        "- The repo_id\n",
        "- The filename: the saved model inside the repo and its extension (*.zip)"
      ]
    },
    {
      "cell_type": "markdown",
      "metadata": {
        "id": "bhb9-NtsinKB"
      },
      "source": [
        "Because the model I download from the Hub was trained with Gym (the former version of Gymnasium) we need to install shimmy a API conversion tool that will help us to run the environment correctly.\n",
        "\n",
        "Shimmy Documentation: https://github.com/Farama-Foundation/Shimmy"
      ]
    },
    {
      "cell_type": "code",
      "execution_count": null,
      "metadata": {
        "id": "03WI-bkci1kH"
      },
      "outputs": [],
      "source": [
        "!pip install shimmy"
      ]
    },
    {
      "cell_type": "code",
      "execution_count": 26,
      "metadata": {
        "id": "oj8PSGHJfwz3"
      },
      "outputs": [
        {
          "name": "stdout",
          "output_type": "stream",
          "text": [
            "== CURRENT SYSTEM INFO ==\n",
            "- OS: Linux-5.15.153.1-microsoft-standard-WSL2-x86_64-with-glibc2.31 # 1 SMP Fri Mar 29 23:14:13 UTC 2024\n",
            "- Python: 3.10.14\n",
            "- Stable-Baselines3: 2.3.2\n",
            "- PyTorch: 2.4.1+cu121\n",
            "- GPU Enabled: True\n",
            "- Numpy: 2.1.1\n",
            "- Cloudpickle: 3.0.0\n",
            "- Gymnasium: 0.29.1\n",
            "- OpenAI Gym: 0.26.2\n",
            "\n",
            "== SAVED MODEL SYSTEM INFO ==\n",
            "OS: Linux-5.4.188+-x86_64-with-Ubuntu-18.04-bionic #1 SMP Sun Apr 24 10:03:06 PDT 2022\n",
            "Python: 3.7.13\n",
            "Stable-Baselines3: 1.5.0\n",
            "PyTorch: 1.11.0+cu113\n",
            "GPU Enabled: True\n",
            "Numpy: 1.21.6\n",
            "Gym: 0.21.0\n",
            "\n"
          ]
        }
      ],
      "source": [
        "from huggingface_sb3 import load_from_hub\n",
        "repo_id = \"Classroom-workshop/assignment2-omar\" # The repo_id\n",
        "filename = \"ppo-LunarLander-v2.zip\" # The model filename.zip\n",
        "\n",
        "# When the model was trained on Python 3.8 the pickle protocol is 5\n",
        "# But Python 3.6, 3.7 use protocol 4\n",
        "# In order to get compatibility we need to:\n",
        "# 1. Install pickle5 (we done it at the beginning of the colab)\n",
        "# 2. Create a custom empty object we pass as parameter to PPO.load()\n",
        "custom_objects = {\n",
        "            \"learning_rate\": 0.0,\n",
        "            \"lr_schedule\": lambda _: 0.0,\n",
        "            \"clip_range\": lambda _: 0.0,\n",
        "}\n",
        "\n",
        "checkpoint = load_from_hub(repo_id, filename)\n",
        "model = PPO.load(checkpoint, custom_objects=custom_objects, print_system_info=True)"
      ]
    },
    {
      "cell_type": "markdown",
      "metadata": {
        "id": "Fs0Y-qgPgLUf"
      },
      "source": [
        "Let's evaluate this agent:"
      ]
    },
    {
      "cell_type": "code",
      "execution_count": 27,
      "metadata": {
        "id": "PAEVwK-aahfx"
      },
      "outputs": [
        {
          "name": "stdout",
          "output_type": "stream",
          "text": [
            "mean_reward=293.98 +/- 15.784856813403994\n"
          ]
        }
      ],
      "source": [
        "#@title\n",
        "eval_env = Monitor(gym.make(\"LunarLander-v2\"))\n",
        "mean_reward, std_reward = evaluate_policy(model, eval_env, n_eval_episodes=10, deterministic=True)\n",
        "print(f\"mean_reward={mean_reward:.2f} +/- {std_reward}\")"
      ]
    },
    {
      "cell_type": "markdown",
      "metadata": {
        "id": "BQAwLnYFPk-s"
      },
      "source": [
        "## Some additional challenges 🏆\n",
        "The best way to learn **is to try things by your own**! As you saw, the current agent is not doing great. As a first suggestion, you can train for more steps. With 1,000,000 steps, we saw some great results!\n",
        "\n",
        "In the [Leaderboard](https://huggingface.co/spaces/huggingface-projects/Deep-Reinforcement-Learning-Leaderboard) you will find your agents. Can you get to the top?\n",
        "\n",
        "Here are some ideas to achieve so:\n",
        "* Train more steps\n",
        "* Try different hyperparameters for `PPO`. You can see them at https://stable-baselines3.readthedocs.io/en/master/modules/ppo.html#parameters.\n",
        "* Check the [Stable-Baselines3 documentation](https://stable-baselines3.readthedocs.io/en/master/modules/dqn.html) and try another model such as DQN.\n",
        "* **Push your new trained model** on the Hub 🔥\n",
        "\n",
        "**Compare the results of your LunarLander-v2 with your classmates** using the [leaderboard](https://huggingface.co/spaces/huggingface-projects/Deep-Reinforcement-Learning-Leaderboard) 🏆\n",
        "\n",
        "Is moon landing too boring for you? Try to **change the environment**, why not use MountainCar-v0, CartPole-v1 or CarRacing-v0? Check how they work [using the gym documentation](https://www.gymlibrary.dev/) and have fun 🎉."
      ]
    },
    {
      "cell_type": "markdown",
      "metadata": {
        "id": "9lM95-dvmif8"
      },
      "source": [
        "________________________________________________________________________\n",
        "Congrats on finishing this chapter! That was the biggest one, **and there was a lot of information.**\n",
        "\n",
        "If you’re still feel confused with all these elements...it's totally normal! **This was the same for me and for all people who studied RL.**\n",
        "\n",
        "Take time to really **grasp the material before continuing and try the additional challenges**. It’s important to master these elements and have a solid foundations.\n",
        "\n",
        "Naturally, during the course, we’re going to dive deeper into these concepts but **it’s better to have a good understanding of them now before diving into the next chapters.**\n",
        "\n"
      ]
    },
    {
      "cell_type": "markdown",
      "metadata": {
        "id": "BjLhT70TEZIn"
      },
      "source": [
        "Next time, in the bonus unit 1, you'll train Huggy the Dog to fetch the stick.\n",
        "\n",
        "<img src=\"https://huggingface.co/datasets/huggingface-deep-rl-course/course-images/resolve/main/en/notebooks/unit1/huggy.jpg\" alt=\"Huggy\"/>\n",
        "\n",
        "## Keep learning, stay awesome 🤗"
      ]
    }
  ],
  "metadata": {
    "accelerator": "GPU",
    "colab": {
      "collapsed_sections": [
        "QAN7B0_HCVZC",
        "BqPKw3jt_pG5"
      ],
      "private_outputs": true,
      "provenance": []
    },
    "gpuClass": "standard",
    "kernelspec": {
      "display_name": "Python 3.9.7",
      "language": "python",
      "name": "python3"
    },
    "language_info": {
      "codemirror_mode": {
        "name": "ipython",
        "version": 3
      },
      "file_extension": ".py",
      "mimetype": "text/x-python",
      "name": "python",
      "nbconvert_exporter": "python",
      "pygments_lexer": "ipython3",
      "version": "3.10.14"
    },
    "vscode": {
      "interpreter": {
        "hash": "ed7f8024e43d3b8f5ca3c5e1a8151ab4d136b3ecee1e3fd59e0766ccc55e1b10"
      }
    }
  },
  "nbformat": 4,
  "nbformat_minor": 0
}
